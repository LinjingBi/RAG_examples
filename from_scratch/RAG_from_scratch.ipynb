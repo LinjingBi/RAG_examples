{
  "nbformat": 4,
  "nbformat_minor": 0,
  "metadata": {
    "colab": {
      "provenance": [],
      "gpuType": "T4"
    },
    "kernelspec": {
      "name": "python3",
      "display_name": "Python 3"
    },
    "language_info": {
      "name": "python"
    },
    "accelerator": "GPU"
  },
  "cells": [
    {
      "cell_type": "markdown",
      "source": [
        "# Retrieval Augmented Generation(RAG)\n",
        "\n",
        "- Retrival - Find relevant information given a query\n",
        "\n",
        "- Augmented - Take the relevant information and augment the prompt to LLM with that relevant information.\n",
        "- Generation - Take the first two steps and pass them to an LLM for generative outputs.\n"
      ],
      "metadata": {
        "id": "iOmKLsFQP6d_"
      }
    },
    {
      "cell_type": "markdown",
      "source": [
        "## What\n",
        "A nutrition chatbot using a  built-from-scratch RAG and a LLM\n",
        "## How\n",
        "1. download \"nutrition\" PDFs\n",
        "2. split the text in PDFs for embedding into chunks\n",
        "3. embed chunks -> turn them into numerical repretations(embedding) and store somewhere(? not sure if a vector db will be needed)\n",
        "4. build a retrival system that uses vector search to find relevant chunk of text based on a query.\n",
        "5. create a prompt based on the retrived text\n",
        "6. send prompt to a LLM for an answer."
      ],
      "metadata": {
        "id": "SqejJXEaX7rR"
      }
    },
    {
      "cell_type": "code",
      "source": [
        "%pip install PyMuPDF"
      ],
      "metadata": {
        "colab": {
          "base_uri": "https://localhost:8080/"
        },
        "id": "kAa_aQ-WjF7j",
        "outputId": "1a9d400f-78ca-4dbc-aba8-37cb54b1bc4f"
      },
      "execution_count": 1,
      "outputs": [
        {
          "output_type": "stream",
          "name": "stdout",
          "text": [
            "Collecting PyMuPDF\n",
            "  Downloading pymupdf-1.26.0-cp39-abi3-manylinux2014_x86_64.manylinux_2_17_x86_64.whl.metadata (3.4 kB)\n",
            "Downloading pymupdf-1.26.0-cp39-abi3-manylinux2014_x86_64.manylinux_2_17_x86_64.whl (24.1 MB)\n",
            "\u001b[2K   \u001b[90m\u2501\u2501\u2501\u2501\u2501\u2501\u2501\u2501\u2501\u2501\u2501\u2501\u2501\u2501\u2501\u2501\u2501\u2501\u2501\u2501\u2501\u2501\u2501\u2501\u2501\u2501\u2501\u2501\u2501\u2501\u2501\u2501\u2501\u2501\u2501\u2501\u2501\u2501\u2501\u2501\u001b[0m \u001b[32m24.1/24.1 MB\u001b[0m \u001b[31m75.9 MB/s\u001b[0m eta \u001b[36m0:00:00\u001b[0m\n",
            "\u001b[?25hInstalling collected packages: PyMuPDF\n",
            "Successfully installed PyMuPDF-1.26.0\n"
          ]
        }
      ]
    },
    {
      "cell_type": "markdown",
      "source": [
        "# Document/text processing"
      ],
      "metadata": {
        "id": "2MWpD9jvrHpr"
      }
    },
    {
      "cell_type": "code",
      "execution_count": 2,
      "metadata": {
        "colab": {
          "base_uri": "https://localhost:8080/"
        },
        "id": "S9JzcUnhPBBp",
        "outputId": "df8702db-f17d-47bd-94ef-26c887078984"
      },
      "outputs": [
        {
          "output_type": "stream",
          "name": "stdout",
          "text": [
            "PDF human-nutrition-pdf found\n"
          ]
        }
      ],
      "source": [
        "import os\n",
        "import requests\n",
        "\n",
        "pdf_file = 'human-nutrition-pdf'\n",
        "pdf_url = \"https://pressbooks.oer.hawaii.edu/humannutrition2/open/download?type=pdf\"\n",
        "\n",
        "# if not os.path.exists(pdf_file):\n",
        "resp = requests.get(pdf_url)\n",
        "resp.raise_for_status()\n",
        "\n",
        "with open(pdf_file, 'wb') as f:\n",
        "  f.write(resp.content)\n",
        "\n",
        "print(f\"PDF {pdf_file} found\")\n"
      ]
    },
    {
      "cell_type": "markdown",
      "source": [
        "| Task                      | PyMuPDF                       | PyPDF                      |\n",
        "| ------------------------- | ----------------------------- | -------------------------- |\n",
        "| Extract paragraphs neatly | \u2705                             | \u274c (loses formatting)       |\n",
        "| Merge multiple PDFs       | \u26a0\ufe0f (can do, but not main use) | \u2705 Built-in                 |\n",
        "| Add watermarks            | \u2705                             | \u2705                          |\n",
        "| Preview page as PNG       | \u2705 `page.get_pixmap()`         | \u274c Not supported            |\n",
        "| Read form field values    | \u26a0\ufe0f Limited                    | \u2705 `get_form_text_fields()` |\n",
        "| Add annotation / comment  | \u2705                             | \u26a0\ufe0f Very limited            |\n"
      ],
      "metadata": {
        "id": "-NHnedKfi7fK"
      }
    },
    {
      "cell_type": "markdown",
      "source": [
        "## splitting PDF into pages"
      ],
      "metadata": {
        "id": "-fy7QYC6yCGZ"
      }
    },
    {
      "cell_type": "code",
      "source": [
        "import fitz\n",
        "from tqdm.auto import tqdm\n",
        "\n",
        "def _process_text(text: str) -> str:\n",
        "  return text.replace('\\n', ' ').strip()\n",
        "\n",
        "doc = fitz.open(pdf_file)\n",
        "print(f\"total pages: {len(doc)}\")\n",
        "\n",
        "page_and_texts = []\n",
        "for page_num, page in tqdm(enumerate(doc)):\n",
        "  text = page.get_text()\n",
        "  text = _process_text(text)\n",
        "  page_and_texts.append({\n",
        "      \"page_number\": page_num - 41, # skip table of content, etc.\n",
        "      \"page_char_count\": len(text),\n",
        "      \"page_word_count\": len(text.split(' ')),\n",
        "      \"page_sentence_count\": len(text.split('. ')),\n",
        "      \"page_token_count\": len(text)//4, # approximation.from openai 1 token ~ 4 chars in English https://help.openai.com/en/articles/4936856-what-are-tokens-and-how-to-count-them\n",
        "      \"text\": text\n",
        "  })\n"
      ],
      "metadata": {
        "colab": {
          "base_uri": "https://localhost:8080/",
          "height": 67,
          "referenced_widgets": [
            "b82f6e36f0b144dea0cd9b9e6b2c93c9",
            "f071a01732df4d54889d21162273ef6b",
            "ab3258b95592416baf6a01c582d15ca6",
            "c921bfa5de1f4189b740b6b5f02ea2ac",
            "3f715fc186a147549b344ecf7bc24129",
            "ce188640405b4f09972ea8781e3b905f",
            "6fe2b57a1c4c48b49e637b3c5a342256",
            "fbcfafd59aa549238d9403892f2b2a3c",
            "d07b24cb3e91457cbefab507f90e0373",
            "1566110e99aa4dc7bc55fb83b74e437a",
            "87eb582c44d142d98fc344e1f1fb5336"
          ]
        },
        "id": "PQb1rRwseugR",
        "outputId": "68b928d3-755a-4087-95f7-b5a347eabdce"
      },
      "execution_count": 3,
      "outputs": [
        {
          "output_type": "stream",
          "name": "stdout",
          "text": [
            "total pages: 1208\n"
          ]
        },
        {
          "output_type": "display_data",
          "data": {
            "text/plain": [
              "0it [00:00, ?it/s]"
            ],
            "application/vnd.jupyter.widget-view+json": {
              "version_major": 2,
              "version_minor": 0,
              "model_id": "b82f6e36f0b144dea0cd9b9e6b2c93c9"
            }
          },
          "metadata": {}
        }
      ]
    },
    {
      "cell_type": "code",
      "source": [
        "page_and_texts[55]"
      ],
      "metadata": {
        "colab": {
          "base_uri": "https://localhost:8080/"
        },
        "id": "MXbISGK1rWhk",
        "outputId": "63f4796b-74a6-4e57-9bd2-d38ffe505d34"
      },
      "execution_count": 4,
      "outputs": [
        {
          "output_type": "execute_result",
          "data": {
            "text/plain": [
              "{'page_number': 14,\n",
              " 'page_char_count': 947,\n",
              " 'page_word_count': 167,\n",
              " 'page_sentence_count': 6,\n",
              " 'page_token_count': 236,\n",
              " 'text': 'Image by  David De  Veroli on  unsplash.co m / CC0  Food Quality  UNIVERSITY OF HAWAI\u2018I AT M\u0100NOA FOOD SCIENCE AND HUMAN  NUTRITION PROGRAM AND HUMAN NUTRITION PROGRAM  One measurement of food quality is the amount of nutrients it  contains relative to the amount of energy it provides. High-quality  foods are nutrient-dense, meaning they contain significant amounts  of one or more essential nutrients relative to the amount of calories  they provide. Nutrient-dense foods are the opposite of \u201cempty- calorie\u201d foods such as carbonated sugary soft drinks, which provide  many calories and very little, if any, other nutrients. Food quality is  additionally associated with its taste, texture, appearance, microbial  content, and how much consumers like it.  Food: A Better Source of Nutrients  It is better to get all your micronutrients from the foods you eat  as opposed to from supplements. Supplements contain only what is  14  |  Food Quality'}"
            ]
          },
          "metadata": {},
          "execution_count": 4
        }
      ]
    },
    {
      "cell_type": "code",
      "source": [
        "# get a rough exploratory data analysis(EDA) of the data\n",
        "import pandas as pd\n",
        "\n",
        "df = pd.DataFrame(page_and_texts)\n",
        "df.head()\n",
        "df.describe().round(2)\n"
      ],
      "metadata": {
        "colab": {
          "base_uri": "https://localhost:8080/",
          "height": 320
        },
        "id": "XOSwDvVWjCfK",
        "outputId": "c0c328b3-c3ee-4078-9005-b8135500effc"
      },
      "execution_count": 5,
      "outputs": [
        {
          "output_type": "execute_result",
          "data": {
            "text/plain": [
              "       page_number  page_char_count  page_word_count  page_sentence_count  \\\n",
              "count      1208.00          1208.00          1208.00              1208.00   \n",
              "mean        562.50          1148.00           198.30                 9.97   \n",
              "std         348.86           560.38            95.76                 6.19   \n",
              "min         -41.00             0.00             1.00                 1.00   \n",
              "25%         260.75           762.00           134.00                 4.00   \n",
              "50%         562.50          1231.50           214.50                10.00   \n",
              "75%         864.25          1603.50           271.00                14.00   \n",
              "max        1166.00          2308.00           429.00                32.00   \n",
              "\n",
              "       page_token_count  \n",
              "count           1208.00  \n",
              "mean             286.62  \n",
              "std              140.09  \n",
              "min                0.00  \n",
              "25%              190.00  \n",
              "50%              307.50  \n",
              "75%              400.25  \n",
              "max              577.00  "
            ],
            "text/html": [
              "\n",
              "  <div id=\"df-24a40fa5-68ec-42c0-b7ad-3bb89a402fba\" class=\"colab-df-container\">\n",
              "    <div>\n",
              "<style scoped>\n",
              "    .dataframe tbody tr th:only-of-type {\n",
              "        vertical-align: middle;\n",
              "    }\n",
              "\n",
              "    .dataframe tbody tr th {\n",
              "        vertical-align: top;\n",
              "    }\n",
              "\n",
              "    .dataframe thead th {\n",
              "        text-align: right;\n",
              "    }\n",
              "</style>\n",
              "<table border=\"1\" class=\"dataframe\">\n",
              "  <thead>\n",
              "    <tr style=\"text-align: right;\">\n",
              "      <th></th>\n",
              "      <th>page_number</th>\n",
              "      <th>page_char_count</th>\n",
              "      <th>page_word_count</th>\n",
              "      <th>page_sentence_count</th>\n",
              "      <th>page_token_count</th>\n",
              "    </tr>\n",
              "  </thead>\n",
              "  <tbody>\n",
              "    <tr>\n",
              "      <th>count</th>\n",
              "      <td>1208.00</td>\n",
              "      <td>1208.00</td>\n",
              "      <td>1208.00</td>\n",
              "      <td>1208.00</td>\n",
              "      <td>1208.00</td>\n",
              "    </tr>\n",
              "    <tr>\n",
              "      <th>mean</th>\n",
              "      <td>562.50</td>\n",
              "      <td>1148.00</td>\n",
              "      <td>198.30</td>\n",
              "      <td>9.97</td>\n",
              "      <td>286.62</td>\n",
              "    </tr>\n",
              "    <tr>\n",
              "      <th>std</th>\n",
              "      <td>348.86</td>\n",
              "      <td>560.38</td>\n",
              "      <td>95.76</td>\n",
              "      <td>6.19</td>\n",
              "      <td>140.09</td>\n",
              "    </tr>\n",
              "    <tr>\n",
              "      <th>min</th>\n",
              "      <td>-41.00</td>\n",
              "      <td>0.00</td>\n",
              "      <td>1.00</td>\n",
              "      <td>1.00</td>\n",
              "      <td>0.00</td>\n",
              "    </tr>\n",
              "    <tr>\n",
              "      <th>25%</th>\n",
              "      <td>260.75</td>\n",
              "      <td>762.00</td>\n",
              "      <td>134.00</td>\n",
              "      <td>4.00</td>\n",
              "      <td>190.00</td>\n",
              "    </tr>\n",
              "    <tr>\n",
              "      <th>50%</th>\n",
              "      <td>562.50</td>\n",
              "      <td>1231.50</td>\n",
              "      <td>214.50</td>\n",
              "      <td>10.00</td>\n",
              "      <td>307.50</td>\n",
              "    </tr>\n",
              "    <tr>\n",
              "      <th>75%</th>\n",
              "      <td>864.25</td>\n",
              "      <td>1603.50</td>\n",
              "      <td>271.00</td>\n",
              "      <td>14.00</td>\n",
              "      <td>400.25</td>\n",
              "    </tr>\n",
              "    <tr>\n",
              "      <th>max</th>\n",
              "      <td>1166.00</td>\n",
              "      <td>2308.00</td>\n",
              "      <td>429.00</td>\n",
              "      <td>32.00</td>\n",
              "      <td>577.00</td>\n",
              "    </tr>\n",
              "  </tbody>\n",
              "</table>\n",
              "</div>\n",
              "    <div class=\"colab-df-buttons\">\n",
              "\n",
              "  <div class=\"colab-df-container\">\n",
              "    <button class=\"colab-df-convert\" onclick=\"convertToInteractive('df-24a40fa5-68ec-42c0-b7ad-3bb89a402fba')\"\n",
              "            title=\"Convert this dataframe to an interactive table.\"\n",
              "            style=\"display:none;\">\n",
              "\n",
              "  <svg xmlns=\"http://www.w3.org/2000/svg\" height=\"24px\" viewBox=\"0 -960 960 960\">\n",
              "    <path d=\"M120-120v-720h720v720H120Zm60-500h600v-160H180v160Zm220 220h160v-160H400v160Zm0 220h160v-160H400v160ZM180-400h160v-160H180v160Zm440 0h160v-160H620v160ZM180-180h160v-160H180v160Zm440 0h160v-160H620v160Z\"/>\n",
              "  </svg>\n",
              "    </button>\n",
              "\n",
              "  <style>\n",
              "    .colab-df-container {\n",
              "      display:flex;\n",
              "      gap: 12px;\n",
              "    }\n",
              "\n",
              "    .colab-df-convert {\n",
              "      background-color: #E8F0FE;\n",
              "      border: none;\n",
              "      border-radius: 50%;\n",
              "      cursor: pointer;\n",
              "      display: none;\n",
              "      fill: #1967D2;\n",
              "      height: 32px;\n",
              "      padding: 0 0 0 0;\n",
              "      width: 32px;\n",
              "    }\n",
              "\n",
              "    .colab-df-convert:hover {\n",
              "      background-color: #E2EBFA;\n",
              "      box-shadow: 0px 1px 2px rgba(60, 64, 67, 0.3), 0px 1px 3px 1px rgba(60, 64, 67, 0.15);\n",
              "      fill: #174EA6;\n",
              "    }\n",
              "\n",
              "    .colab-df-buttons div {\n",
              "      margin-bottom: 4px;\n",
              "    }\n",
              "\n",
              "    [theme=dark] .colab-df-convert {\n",
              "      background-color: #3B4455;\n",
              "      fill: #D2E3FC;\n",
              "    }\n",
              "\n",
              "    [theme=dark] .colab-df-convert:hover {\n",
              "      background-color: #434B5C;\n",
              "      box-shadow: 0px 1px 3px 1px rgba(0, 0, 0, 0.15);\n",
              "      filter: drop-shadow(0px 1px 2px rgba(0, 0, 0, 0.3));\n",
              "      fill: #FFFFFF;\n",
              "    }\n",
              "  </style>\n",
              "\n",
              "    <script>\n",
              "      const buttonEl =\n",
              "        document.querySelector('#df-24a40fa5-68ec-42c0-b7ad-3bb89a402fba button.colab-df-convert');\n",
              "      buttonEl.style.display =\n",
              "        google.colab.kernel.accessAllowed ? 'block' : 'none';\n",
              "\n",
              "      async function convertToInteractive(key) {\n",
              "        const element = document.querySelector('#df-24a40fa5-68ec-42c0-b7ad-3bb89a402fba');\n",
              "        const dataTable =\n",
              "          await google.colab.kernel.invokeFunction('convertToInteractive',\n",
              "                                                    [key], {});\n",
              "        if (!dataTable) return;\n",
              "\n",
              "        const docLinkHtml = 'Like what you see? Visit the ' +\n",
              "          '<a target=\"_blank\" href=https://colab.research.google.com/notebooks/data_table.ipynb>data table notebook</a>'\n",
              "          + ' to learn more about interactive tables.';\n",
              "        element.innerHTML = '';\n",
              "        dataTable['output_type'] = 'display_data';\n",
              "        await google.colab.output.renderOutput(dataTable, element);\n",
              "        const docLink = document.createElement('div');\n",
              "        docLink.innerHTML = docLinkHtml;\n",
              "        element.appendChild(docLink);\n",
              "      }\n",
              "    </script>\n",
              "  </div>\n",
              "\n",
              "\n",
              "    <div id=\"df-06846eb9-1e9f-4d18-b2e0-839f8d1a204b\">\n",
              "      <button class=\"colab-df-quickchart\" onclick=\"quickchart('df-06846eb9-1e9f-4d18-b2e0-839f8d1a204b')\"\n",
              "                title=\"Suggest charts\"\n",
              "                style=\"display:none;\">\n",
              "\n",
              "<svg xmlns=\"http://www.w3.org/2000/svg\" height=\"24px\"viewBox=\"0 0 24 24\"\n",
              "     width=\"24px\">\n",
              "    <g>\n",
              "        <path d=\"M19 3H5c-1.1 0-2 .9-2 2v14c0 1.1.9 2 2 2h14c1.1 0 2-.9 2-2V5c0-1.1-.9-2-2-2zM9 17H7v-7h2v7zm4 0h-2V7h2v10zm4 0h-2v-4h2v4z\"/>\n",
              "    </g>\n",
              "</svg>\n",
              "      </button>\n",
              "\n",
              "<style>\n",
              "  .colab-df-quickchart {\n",
              "      --bg-color: #E8F0FE;\n",
              "      --fill-color: #1967D2;\n",
              "      --hover-bg-color: #E2EBFA;\n",
              "      --hover-fill-color: #174EA6;\n",
              "      --disabled-fill-color: #AAA;\n",
              "      --disabled-bg-color: #DDD;\n",
              "  }\n",
              "\n",
              "  [theme=dark] .colab-df-quickchart {\n",
              "      --bg-color: #3B4455;\n",
              "      --fill-color: #D2E3FC;\n",
              "      --hover-bg-color: #434B5C;\n",
              "      --hover-fill-color: #FFFFFF;\n",
              "      --disabled-bg-color: #3B4455;\n",
              "      --disabled-fill-color: #666;\n",
              "  }\n",
              "\n",
              "  .colab-df-quickchart {\n",
              "    background-color: var(--bg-color);\n",
              "    border: none;\n",
              "    border-radius: 50%;\n",
              "    cursor: pointer;\n",
              "    display: none;\n",
              "    fill: var(--fill-color);\n",
              "    height: 32px;\n",
              "    padding: 0;\n",
              "    width: 32px;\n",
              "  }\n",
              "\n",
              "  .colab-df-quickchart:hover {\n",
              "    background-color: var(--hover-bg-color);\n",
              "    box-shadow: 0 1px 2px rgba(60, 64, 67, 0.3), 0 1px 3px 1px rgba(60, 64, 67, 0.15);\n",
              "    fill: var(--button-hover-fill-color);\n",
              "  }\n",
              "\n",
              "  .colab-df-quickchart-complete:disabled,\n",
              "  .colab-df-quickchart-complete:disabled:hover {\n",
              "    background-color: var(--disabled-bg-color);\n",
              "    fill: var(--disabled-fill-color);\n",
              "    box-shadow: none;\n",
              "  }\n",
              "\n",
              "  .colab-df-spinner {\n",
              "    border: 2px solid var(--fill-color);\n",
              "    border-color: transparent;\n",
              "    border-bottom-color: var(--fill-color);\n",
              "    animation:\n",
              "      spin 1s steps(1) infinite;\n",
              "  }\n",
              "\n",
              "  @keyframes spin {\n",
              "    0% {\n",
              "      border-color: transparent;\n",
              "      border-bottom-color: var(--fill-color);\n",
              "      border-left-color: var(--fill-color);\n",
              "    }\n",
              "    20% {\n",
              "      border-color: transparent;\n",
              "      border-left-color: var(--fill-color);\n",
              "      border-top-color: var(--fill-color);\n",
              "    }\n",
              "    30% {\n",
              "      border-color: transparent;\n",
              "      border-left-color: var(--fill-color);\n",
              "      border-top-color: var(--fill-color);\n",
              "      border-right-color: var(--fill-color);\n",
              "    }\n",
              "    40% {\n",
              "      border-color: transparent;\n",
              "      border-right-color: var(--fill-color);\n",
              "      border-top-color: var(--fill-color);\n",
              "    }\n",
              "    60% {\n",
              "      border-color: transparent;\n",
              "      border-right-color: var(--fill-color);\n",
              "    }\n",
              "    80% {\n",
              "      border-color: transparent;\n",
              "      border-right-color: var(--fill-color);\n",
              "      border-bottom-color: var(--fill-color);\n",
              "    }\n",
              "    90% {\n",
              "      border-color: transparent;\n",
              "      border-bottom-color: var(--fill-color);\n",
              "    }\n",
              "  }\n",
              "</style>\n",
              "\n",
              "      <script>\n",
              "        async function quickchart(key) {\n",
              "          const quickchartButtonEl =\n",
              "            document.querySelector('#' + key + ' button');\n",
              "          quickchartButtonEl.disabled = true;  // To prevent multiple clicks.\n",
              "          quickchartButtonEl.classList.add('colab-df-spinner');\n",
              "          try {\n",
              "            const charts = await google.colab.kernel.invokeFunction(\n",
              "                'suggestCharts', [key], {});\n",
              "          } catch (error) {\n",
              "            console.error('Error during call to suggestCharts:', error);\n",
              "          }\n",
              "          quickchartButtonEl.classList.remove('colab-df-spinner');\n",
              "          quickchartButtonEl.classList.add('colab-df-quickchart-complete');\n",
              "        }\n",
              "        (() => {\n",
              "          let quickchartButtonEl =\n",
              "            document.querySelector('#df-06846eb9-1e9f-4d18-b2e0-839f8d1a204b button');\n",
              "          quickchartButtonEl.style.display =\n",
              "            google.colab.kernel.accessAllowed ? 'block' : 'none';\n",
              "        })();\n",
              "      </script>\n",
              "    </div>\n",
              "\n",
              "    </div>\n",
              "  </div>\n"
            ],
            "application/vnd.google.colaboratory.intrinsic+json": {
              "type": "dataframe",
              "summary": "{\n  \"name\": \"df\",\n  \"rows\": 8,\n  \"fields\": [\n    {\n      \"column\": \"page_number\",\n      \"properties\": {\n        \"dtype\": \"number\",\n        \"std\": 439.07858752326854,\n        \"min\": -41.0,\n        \"max\": 1208.0,\n        \"num_unique_values\": 7,\n        \"samples\": [\n          1208.0,\n          562.5,\n          864.25\n        ],\n        \"semantic_type\": \"\",\n        \"description\": \"\"\n      }\n    },\n    {\n      \"column\": \"page_char_count\",\n      \"properties\": {\n        \"dtype\": \"number\",\n        \"std\": 692.7598126695862,\n        \"min\": 0.0,\n        \"max\": 2308.0,\n        \"num_unique_values\": 8,\n        \"samples\": [\n          1148.0,\n          1231.5,\n          1208.0\n        ],\n        \"semantic_type\": \"\",\n        \"description\": \"\"\n      }\n    },\n    {\n      \"column\": \"page_word_count\",\n      \"properties\": {\n        \"dtype\": \"number\",\n        \"std\": 380.86345761027945,\n        \"min\": 1.0,\n        \"max\": 1208.0,\n        \"num_unique_values\": 8,\n        \"samples\": [\n          198.3,\n          214.5,\n          1208.0\n        ],\n        \"semantic_type\": \"\",\n        \"description\": \"\"\n      }\n    },\n    {\n      \"column\": \"page_sentence_count\",\n      \"properties\": {\n        \"dtype\": \"number\",\n        \"std\": 423.3006680160771,\n        \"min\": 1.0,\n        \"max\": 1208.0,\n        \"num_unique_values\": 8,\n        \"samples\": [\n          9.97,\n          10.0,\n          1208.0\n        ],\n        \"semantic_type\": \"\",\n        \"description\": \"\"\n      }\n    },\n    {\n      \"column\": \"page_token_count\",\n      \"properties\": {\n        \"dtype\": \"number\",\n        \"std\": 373.4458955936111,\n        \"min\": 0.0,\n        \"max\": 1208.0,\n        \"num_unique_values\": 8,\n        \"samples\": [\n          286.62,\n          307.5,\n          1208.0\n        ],\n        \"semantic_type\": \"\",\n        \"description\": \"\"\n      }\n    }\n  ]\n}"
            }
          },
          "metadata": {},
          "execution_count": 5
        }
      ]
    },
    {
      "cell_type": "markdown",
      "source": [
        "Looking at the average token per page 287, meaning we can embed an average whole page with the all-mpnet-base-v2 model(input capacity of 384).  \n",
        "PS. Texts over 384 tokens are discarded silently by embedding model, potentially losing some information."
      ],
      "metadata": {
        "id": "JhKeMDniwMHS"
      }
    },
    {
      "cell_type": "markdown",
      "source": [
        "## further text processing(splitting pages into sentences)\n",
        "\n",
        "### why sentences?\n",
        "1. easier to handle for e.g. manage token size to meet embdedding model's limit, than pages, especially when pages are densely filled with text.\n",
        "2. can get specific and find out which group of sentence were used in a RAG pipeline.\n",
        "\n",
        "### Use [spaCy](https://spacy.io/) to break text into sentences\n",
        "\n"
      ],
      "metadata": {
        "id": "A6oxY84Bx4y2"
      }
    },
    {
      "cell_type": "code",
      "source": [
        "from spacy.lang.en import English"
      ],
      "metadata": {
        "id": "I9AUf4-gvhDz"
      },
      "execution_count": 6,
      "outputs": []
    },
    {
      "cell_type": "code",
      "source": [
        "nlp = English()\n",
        "nlp.add_pipe('sentencizer')\n",
        "\n",
        "for page in tqdm(page_and_texts):\n",
        "  page['sentences'] = list(nlp(page['text']).sents)\n",
        "  page['sentences'] = [str(sent) for sent in page['sentences']]\n",
        "\n",
        "  page['page_sentence_count_spacy'] = len(page['sentences'])\n"
      ],
      "metadata": {
        "colab": {
          "base_uri": "https://localhost:8080/",
          "height": 49,
          "referenced_widgets": [
            "580384b23bf24abeb053607e6d85431f",
            "e292a2c780fb4fb6b19f1ad322ba07d1",
            "192e4e64624446f99992a76805fd4804",
            "4bb84994cc594f4ebe56b11802e73749",
            "40e2556c01194319b8bfe5ae67aa2167",
            "48bfa707e2fd4e778b18fa45de010f33",
            "8e75c56921964700b897c3a9d25272ca",
            "499f99ffb4344ae6964e27b7f9de0191",
            "f42eb654bbc84479911dbd2e271433cf",
            "f0aba6f5500b413190b062ee8b4eb4c8",
            "e061c59ae479479ba4949fb52424c2b0"
          ]
        },
        "id": "osktI0NpXA_A",
        "outputId": "be3e4566-a6b8-4dae-bb27-96bcb72d1e31"
      },
      "execution_count": 7,
      "outputs": [
        {
          "output_type": "display_data",
          "data": {
            "text/plain": [
              "  0%|          | 0/1208 [00:00<?, ?it/s]"
            ],
            "application/vnd.jupyter.widget-view+json": {
              "version_major": 2,
              "version_minor": 0,
              "model_id": "580384b23bf24abeb053607e6d85431f"
            }
          },
          "metadata": {}
        }
      ]
    },
    {
      "cell_type": "code",
      "source": [
        "df = pd.DataFrame(page_and_texts)\n",
        "df.describe().round(2)"
      ],
      "metadata": {
        "colab": {
          "base_uri": "https://localhost:8080/",
          "height": 320
        },
        "id": "guQpeE9FYdVy",
        "outputId": "d9b23aaf-ccc8-4e76-c17a-fe3dd9d92a24"
      },
      "execution_count": 8,
      "outputs": [
        {
          "output_type": "execute_result",
          "data": {
            "text/plain": [
              "       page_number  page_char_count  page_word_count  page_sentence_count  \\\n",
              "count      1208.00          1208.00          1208.00              1208.00   \n",
              "mean        562.50          1148.00           198.30                 9.97   \n",
              "std         348.86           560.38            95.76                 6.19   \n",
              "min         -41.00             0.00             1.00                 1.00   \n",
              "25%         260.75           762.00           134.00                 4.00   \n",
              "50%         562.50          1231.50           214.50                10.00   \n",
              "75%         864.25          1603.50           271.00                14.00   \n",
              "max        1166.00          2308.00           429.00                32.00   \n",
              "\n",
              "       page_token_count  page_sentence_count_spacy  \n",
              "count           1208.00                    1208.00  \n",
              "mean             286.62                      10.32  \n",
              "std              140.09                       6.30  \n",
              "min                0.00                       0.00  \n",
              "25%              190.00                       5.00  \n",
              "50%              307.50                      10.00  \n",
              "75%              400.25                      15.00  \n",
              "max              577.00                      28.00  "
            ],
            "text/html": [
              "\n",
              "  <div id=\"df-13843e5d-81e0-4690-8280-8fc98ed0cc75\" class=\"colab-df-container\">\n",
              "    <div>\n",
              "<style scoped>\n",
              "    .dataframe tbody tr th:only-of-type {\n",
              "        vertical-align: middle;\n",
              "    }\n",
              "\n",
              "    .dataframe tbody tr th {\n",
              "        vertical-align: top;\n",
              "    }\n",
              "\n",
              "    .dataframe thead th {\n",
              "        text-align: right;\n",
              "    }\n",
              "</style>\n",
              "<table border=\"1\" class=\"dataframe\">\n",
              "  <thead>\n",
              "    <tr style=\"text-align: right;\">\n",
              "      <th></th>\n",
              "      <th>page_number</th>\n",
              "      <th>page_char_count</th>\n",
              "      <th>page_word_count</th>\n",
              "      <th>page_sentence_count</th>\n",
              "      <th>page_token_count</th>\n",
              "      <th>page_sentence_count_spacy</th>\n",
              "    </tr>\n",
              "  </thead>\n",
              "  <tbody>\n",
              "    <tr>\n",
              "      <th>count</th>\n",
              "      <td>1208.00</td>\n",
              "      <td>1208.00</td>\n",
              "      <td>1208.00</td>\n",
              "      <td>1208.00</td>\n",
              "      <td>1208.00</td>\n",
              "      <td>1208.00</td>\n",
              "    </tr>\n",
              "    <tr>\n",
              "      <th>mean</th>\n",
              "      <td>562.50</td>\n",
              "      <td>1148.00</td>\n",
              "      <td>198.30</td>\n",
              "      <td>9.97</td>\n",
              "      <td>286.62</td>\n",
              "      <td>10.32</td>\n",
              "    </tr>\n",
              "    <tr>\n",
              "      <th>std</th>\n",
              "      <td>348.86</td>\n",
              "      <td>560.38</td>\n",
              "      <td>95.76</td>\n",
              "      <td>6.19</td>\n",
              "      <td>140.09</td>\n",
              "      <td>6.30</td>\n",
              "    </tr>\n",
              "    <tr>\n",
              "      <th>min</th>\n",
              "      <td>-41.00</td>\n",
              "      <td>0.00</td>\n",
              "      <td>1.00</td>\n",
              "      <td>1.00</td>\n",
              "      <td>0.00</td>\n",
              "      <td>0.00</td>\n",
              "    </tr>\n",
              "    <tr>\n",
              "      <th>25%</th>\n",
              "      <td>260.75</td>\n",
              "      <td>762.00</td>\n",
              "      <td>134.00</td>\n",
              "      <td>4.00</td>\n",
              "      <td>190.00</td>\n",
              "      <td>5.00</td>\n",
              "    </tr>\n",
              "    <tr>\n",
              "      <th>50%</th>\n",
              "      <td>562.50</td>\n",
              "      <td>1231.50</td>\n",
              "      <td>214.50</td>\n",
              "      <td>10.00</td>\n",
              "      <td>307.50</td>\n",
              "      <td>10.00</td>\n",
              "    </tr>\n",
              "    <tr>\n",
              "      <th>75%</th>\n",
              "      <td>864.25</td>\n",
              "      <td>1603.50</td>\n",
              "      <td>271.00</td>\n",
              "      <td>14.00</td>\n",
              "      <td>400.25</td>\n",
              "      <td>15.00</td>\n",
              "    </tr>\n",
              "    <tr>\n",
              "      <th>max</th>\n",
              "      <td>1166.00</td>\n",
              "      <td>2308.00</td>\n",
              "      <td>429.00</td>\n",
              "      <td>32.00</td>\n",
              "      <td>577.00</td>\n",
              "      <td>28.00</td>\n",
              "    </tr>\n",
              "  </tbody>\n",
              "</table>\n",
              "</div>\n",
              "    <div class=\"colab-df-buttons\">\n",
              "\n",
              "  <div class=\"colab-df-container\">\n",
              "    <button class=\"colab-df-convert\" onclick=\"convertToInteractive('df-13843e5d-81e0-4690-8280-8fc98ed0cc75')\"\n",
              "            title=\"Convert this dataframe to an interactive table.\"\n",
              "            style=\"display:none;\">\n",
              "\n",
              "  <svg xmlns=\"http://www.w3.org/2000/svg\" height=\"24px\" viewBox=\"0 -960 960 960\">\n",
              "    <path d=\"M120-120v-720h720v720H120Zm60-500h600v-160H180v160Zm220 220h160v-160H400v160Zm0 220h160v-160H400v160ZM180-400h160v-160H180v160Zm440 0h160v-160H620v160ZM180-180h160v-160H180v160Zm440 0h160v-160H620v160Z\"/>\n",
              "  </svg>\n",
              "    </button>\n",
              "\n",
              "  <style>\n",
              "    .colab-df-container {\n",
              "      display:flex;\n",
              "      gap: 12px;\n",
              "    }\n",
              "\n",
              "    .colab-df-convert {\n",
              "      background-color: #E8F0FE;\n",
              "      border: none;\n",
              "      border-radius: 50%;\n",
              "      cursor: pointer;\n",
              "      display: none;\n",
              "      fill: #1967D2;\n",
              "      height: 32px;\n",
              "      padding: 0 0 0 0;\n",
              "      width: 32px;\n",
              "    }\n",
              "\n",
              "    .colab-df-convert:hover {\n",
              "      background-color: #E2EBFA;\n",
              "      box-shadow: 0px 1px 2px rgba(60, 64, 67, 0.3), 0px 1px 3px 1px rgba(60, 64, 67, 0.15);\n",
              "      fill: #174EA6;\n",
              "    }\n",
              "\n",
              "    .colab-df-buttons div {\n",
              "      margin-bottom: 4px;\n",
              "    }\n",
              "\n",
              "    [theme=dark] .colab-df-convert {\n",
              "      background-color: #3B4455;\n",
              "      fill: #D2E3FC;\n",
              "    }\n",
              "\n",
              "    [theme=dark] .colab-df-convert:hover {\n",
              "      background-color: #434B5C;\n",
              "      box-shadow: 0px 1px 3px 1px rgba(0, 0, 0, 0.15);\n",
              "      filter: drop-shadow(0px 1px 2px rgba(0, 0, 0, 0.3));\n",
              "      fill: #FFFFFF;\n",
              "    }\n",
              "  </style>\n",
              "\n",
              "    <script>\n",
              "      const buttonEl =\n",
              "        document.querySelector('#df-13843e5d-81e0-4690-8280-8fc98ed0cc75 button.colab-df-convert');\n",
              "      buttonEl.style.display =\n",
              "        google.colab.kernel.accessAllowed ? 'block' : 'none';\n",
              "\n",
              "      async function convertToInteractive(key) {\n",
              "        const element = document.querySelector('#df-13843e5d-81e0-4690-8280-8fc98ed0cc75');\n",
              "        const dataTable =\n",
              "          await google.colab.kernel.invokeFunction('convertToInteractive',\n",
              "                                                    [key], {});\n",
              "        if (!dataTable) return;\n",
              "\n",
              "        const docLinkHtml = 'Like what you see? Visit the ' +\n",
              "          '<a target=\"_blank\" href=https://colab.research.google.com/notebooks/data_table.ipynb>data table notebook</a>'\n",
              "          + ' to learn more about interactive tables.';\n",
              "        element.innerHTML = '';\n",
              "        dataTable['output_type'] = 'display_data';\n",
              "        await google.colab.output.renderOutput(dataTable, element);\n",
              "        const docLink = document.createElement('div');\n",
              "        docLink.innerHTML = docLinkHtml;\n",
              "        element.appendChild(docLink);\n",
              "      }\n",
              "    </script>\n",
              "  </div>\n",
              "\n",
              "\n",
              "    <div id=\"df-954e874d-e5fd-41ed-9e10-53b8975c4b3a\">\n",
              "      <button class=\"colab-df-quickchart\" onclick=\"quickchart('df-954e874d-e5fd-41ed-9e10-53b8975c4b3a')\"\n",
              "                title=\"Suggest charts\"\n",
              "                style=\"display:none;\">\n",
              "\n",
              "<svg xmlns=\"http://www.w3.org/2000/svg\" height=\"24px\"viewBox=\"0 0 24 24\"\n",
              "     width=\"24px\">\n",
              "    <g>\n",
              "        <path d=\"M19 3H5c-1.1 0-2 .9-2 2v14c0 1.1.9 2 2 2h14c1.1 0 2-.9 2-2V5c0-1.1-.9-2-2-2zM9 17H7v-7h2v7zm4 0h-2V7h2v10zm4 0h-2v-4h2v4z\"/>\n",
              "    </g>\n",
              "</svg>\n",
              "      </button>\n",
              "\n",
              "<style>\n",
              "  .colab-df-quickchart {\n",
              "      --bg-color: #E8F0FE;\n",
              "      --fill-color: #1967D2;\n",
              "      --hover-bg-color: #E2EBFA;\n",
              "      --hover-fill-color: #174EA6;\n",
              "      --disabled-fill-color: #AAA;\n",
              "      --disabled-bg-color: #DDD;\n",
              "  }\n",
              "\n",
              "  [theme=dark] .colab-df-quickchart {\n",
              "      --bg-color: #3B4455;\n",
              "      --fill-color: #D2E3FC;\n",
              "      --hover-bg-color: #434B5C;\n",
              "      --hover-fill-color: #FFFFFF;\n",
              "      --disabled-bg-color: #3B4455;\n",
              "      --disabled-fill-color: #666;\n",
              "  }\n",
              "\n",
              "  .colab-df-quickchart {\n",
              "    background-color: var(--bg-color);\n",
              "    border: none;\n",
              "    border-radius: 50%;\n",
              "    cursor: pointer;\n",
              "    display: none;\n",
              "    fill: var(--fill-color);\n",
              "    height: 32px;\n",
              "    padding: 0;\n",
              "    width: 32px;\n",
              "  }\n",
              "\n",
              "  .colab-df-quickchart:hover {\n",
              "    background-color: var(--hover-bg-color);\n",
              "    box-shadow: 0 1px 2px rgba(60, 64, 67, 0.3), 0 1px 3px 1px rgba(60, 64, 67, 0.15);\n",
              "    fill: var(--button-hover-fill-color);\n",
              "  }\n",
              "\n",
              "  .colab-df-quickchart-complete:disabled,\n",
              "  .colab-df-quickchart-complete:disabled:hover {\n",
              "    background-color: var(--disabled-bg-color);\n",
              "    fill: var(--disabled-fill-color);\n",
              "    box-shadow: none;\n",
              "  }\n",
              "\n",
              "  .colab-df-spinner {\n",
              "    border: 2px solid var(--fill-color);\n",
              "    border-color: transparent;\n",
              "    border-bottom-color: var(--fill-color);\n",
              "    animation:\n",
              "      spin 1s steps(1) infinite;\n",
              "  }\n",
              "\n",
              "  @keyframes spin {\n",
              "    0% {\n",
              "      border-color: transparent;\n",
              "      border-bottom-color: var(--fill-color);\n",
              "      border-left-color: var(--fill-color);\n",
              "    }\n",
              "    20% {\n",
              "      border-color: transparent;\n",
              "      border-left-color: var(--fill-color);\n",
              "      border-top-color: var(--fill-color);\n",
              "    }\n",
              "    30% {\n",
              "      border-color: transparent;\n",
              "      border-left-color: var(--fill-color);\n",
              "      border-top-color: var(--fill-color);\n",
              "      border-right-color: var(--fill-color);\n",
              "    }\n",
              "    40% {\n",
              "      border-color: transparent;\n",
              "      border-right-color: var(--fill-color);\n",
              "      border-top-color: var(--fill-color);\n",
              "    }\n",
              "    60% {\n",
              "      border-color: transparent;\n",
              "      border-right-color: var(--fill-color);\n",
              "    }\n",
              "    80% {\n",
              "      border-color: transparent;\n",
              "      border-right-color: var(--fill-color);\n",
              "      border-bottom-color: var(--fill-color);\n",
              "    }\n",
              "    90% {\n",
              "      border-color: transparent;\n",
              "      border-bottom-color: var(--fill-color);\n",
              "    }\n",
              "  }\n",
              "</style>\n",
              "\n",
              "      <script>\n",
              "        async function quickchart(key) {\n",
              "          const quickchartButtonEl =\n",
              "            document.querySelector('#' + key + ' button');\n",
              "          quickchartButtonEl.disabled = true;  // To prevent multiple clicks.\n",
              "          quickchartButtonEl.classList.add('colab-df-spinner');\n",
              "          try {\n",
              "            const charts = await google.colab.kernel.invokeFunction(\n",
              "                'suggestCharts', [key], {});\n",
              "          } catch (error) {\n",
              "            console.error('Error during call to suggestCharts:', error);\n",
              "          }\n",
              "          quickchartButtonEl.classList.remove('colab-df-spinner');\n",
              "          quickchartButtonEl.classList.add('colab-df-quickchart-complete');\n",
              "        }\n",
              "        (() => {\n",
              "          let quickchartButtonEl =\n",
              "            document.querySelector('#df-954e874d-e5fd-41ed-9e10-53b8975c4b3a button');\n",
              "          quickchartButtonEl.style.display =\n",
              "            google.colab.kernel.accessAllowed ? 'block' : 'none';\n",
              "        })();\n",
              "      </script>\n",
              "    </div>\n",
              "\n",
              "    </div>\n",
              "  </div>\n"
            ],
            "application/vnd.google.colaboratory.intrinsic+json": {
              "type": "dataframe",
              "summary": "{\n  \"name\": \"df\",\n  \"rows\": 8,\n  \"fields\": [\n    {\n      \"column\": \"page_number\",\n      \"properties\": {\n        \"dtype\": \"number\",\n        \"std\": 439.07858752326854,\n        \"min\": -41.0,\n        \"max\": 1208.0,\n        \"num_unique_values\": 7,\n        \"samples\": [\n          1208.0,\n          562.5,\n          864.25\n        ],\n        \"semantic_type\": \"\",\n        \"description\": \"\"\n      }\n    },\n    {\n      \"column\": \"page_char_count\",\n      \"properties\": {\n        \"dtype\": \"number\",\n        \"std\": 692.7598126695862,\n        \"min\": 0.0,\n        \"max\": 2308.0,\n        \"num_unique_values\": 8,\n        \"samples\": [\n          1148.0,\n          1231.5,\n          1208.0\n        ],\n        \"semantic_type\": \"\",\n        \"description\": \"\"\n      }\n    },\n    {\n      \"column\": \"page_word_count\",\n      \"properties\": {\n        \"dtype\": \"number\",\n        \"std\": 380.86345761027945,\n        \"min\": 1.0,\n        \"max\": 1208.0,\n        \"num_unique_values\": 8,\n        \"samples\": [\n          198.3,\n          214.5,\n          1208.0\n        ],\n        \"semantic_type\": \"\",\n        \"description\": \"\"\n      }\n    },\n    {\n      \"column\": \"page_sentence_count\",\n      \"properties\": {\n        \"dtype\": \"number\",\n        \"std\": 423.3006680160771,\n        \"min\": 1.0,\n        \"max\": 1208.0,\n        \"num_unique_values\": 8,\n        \"samples\": [\n          9.97,\n          10.0,\n          1208.0\n        ],\n        \"semantic_type\": \"\",\n        \"description\": \"\"\n      }\n    },\n    {\n      \"column\": \"page_token_count\",\n      \"properties\": {\n        \"dtype\": \"number\",\n        \"std\": 373.4458955936111,\n        \"min\": 0.0,\n        \"max\": 1208.0,\n        \"num_unique_values\": 8,\n        \"samples\": [\n          286.62,\n          307.5,\n          1208.0\n        ],\n        \"semantic_type\": \"\",\n        \"description\": \"\"\n      }\n    },\n    {\n      \"column\": \"page_sentence_count_spacy\",\n      \"properties\": {\n        \"dtype\": \"number\",\n        \"std\": 423.405400861363,\n        \"min\": 0.0,\n        \"max\": 1208.0,\n        \"num_unique_values\": 8,\n        \"samples\": [\n          10.32,\n          10.0,\n          1208.0\n        ],\n        \"semantic_type\": \"\",\n        \"description\": \"\"\n      }\n    }\n  ]\n}"
            }
          },
          "metadata": {},
          "execution_count": 8
        }
      ]
    },
    {
      "cell_type": "markdown",
      "source": [
        "## chunking sentences together"
      ],
      "metadata": {
        "id": "SrrHyspCZnfG"
      }
    },
    {
      "cell_type": "code",
      "source": [
        "num_sentence_chunk_size = 10 # arbitrary, just picked bcs it fits the average token per page and the token limit of embedding model\n",
        "\n",
        "for page in tqdm(page_and_texts):\n",
        "  page['sentence_chunks'] = [page['sentences'][i:i+num_sentence_chunk_size] for i in range(0, len(page['sentences']), num_sentence_chunk_size)]\n",
        "  page['num_chunks'] = len(page['sentence_chunks'])"
      ],
      "metadata": {
        "colab": {
          "base_uri": "https://localhost:8080/",
          "height": 49,
          "referenced_widgets": [
            "24c000cea85142518c54eed1b80f5bff",
            "27d3f7b432c347059c766eddd85f9a50",
            "9d404ee8d5ec471db6c326098db126bd",
            "95ad5d987f9a48b8a2b694ed31df0c8c",
            "b4ec64fc0f51487e930ad467fba1fc00",
            "c8c2308026af47679fad746915e0e1a9",
            "5fe60a08260649628aed92e098c583fa",
            "1b642fca751844e6be5088c6e10b5b03",
            "3f803f3a09844e61a6acb1807a5a9c2f",
            "9a90a600002640bea630cf3dc49e25ae",
            "3783ce8f258c46a0a3d91fec65ed8333"
          ]
        },
        "id": "XjegwSBQYoI1",
        "outputId": "faea2878-4213-47fe-b220-48b84843b628"
      },
      "execution_count": 9,
      "outputs": [
        {
          "output_type": "display_data",
          "data": {
            "text/plain": [
              "  0%|          | 0/1208 [00:00<?, ?it/s]"
            ],
            "application/vnd.jupyter.widget-view+json": {
              "version_major": 2,
              "version_minor": 0,
              "model_id": "24c000cea85142518c54eed1b80f5bff"
            }
          },
          "metadata": {}
        }
      ]
    },
    {
      "cell_type": "code",
      "source": [
        "df = pd.DataFrame(page_and_texts)\n",
        "df.describe().round(2)"
      ],
      "metadata": {
        "colab": {
          "base_uri": "https://localhost:8080/",
          "height": 320
        },
        "id": "KWsFWPuae-4G",
        "outputId": "1967d44e-b1bd-4933-9dc1-25ce6c5263bc"
      },
      "execution_count": 10,
      "outputs": [
        {
          "output_type": "execute_result",
          "data": {
            "text/plain": [
              "       page_number  page_char_count  page_word_count  page_sentence_count  \\\n",
              "count      1208.00          1208.00          1208.00              1208.00   \n",
              "mean        562.50          1148.00           198.30                 9.97   \n",
              "std         348.86           560.38            95.76                 6.19   \n",
              "min         -41.00             0.00             1.00                 1.00   \n",
              "25%         260.75           762.00           134.00                 4.00   \n",
              "50%         562.50          1231.50           214.50                10.00   \n",
              "75%         864.25          1603.50           271.00                14.00   \n",
              "max        1166.00          2308.00           429.00                32.00   \n",
              "\n",
              "       page_token_count  page_sentence_count_spacy  num_chunks  \n",
              "count           1208.00                    1208.00     1208.00  \n",
              "mean             286.62                      10.32        1.53  \n",
              "std              140.09                       6.30        0.64  \n",
              "min                0.00                       0.00        0.00  \n",
              "25%              190.00                       5.00        1.00  \n",
              "50%              307.50                      10.00        1.00  \n",
              "75%              400.25                      15.00        2.00  \n",
              "max              577.00                      28.00        3.00  "
            ],
            "text/html": [
              "\n",
              "  <div id=\"df-3e35cfe3-9018-42cc-9461-82a4093471da\" class=\"colab-df-container\">\n",
              "    <div>\n",
              "<style scoped>\n",
              "    .dataframe tbody tr th:only-of-type {\n",
              "        vertical-align: middle;\n",
              "    }\n",
              "\n",
              "    .dataframe tbody tr th {\n",
              "        vertical-align: top;\n",
              "    }\n",
              "\n",
              "    .dataframe thead th {\n",
              "        text-align: right;\n",
              "    }\n",
              "</style>\n",
              "<table border=\"1\" class=\"dataframe\">\n",
              "  <thead>\n",
              "    <tr style=\"text-align: right;\">\n",
              "      <th></th>\n",
              "      <th>page_number</th>\n",
              "      <th>page_char_count</th>\n",
              "      <th>page_word_count</th>\n",
              "      <th>page_sentence_count</th>\n",
              "      <th>page_token_count</th>\n",
              "      <th>page_sentence_count_spacy</th>\n",
              "      <th>num_chunks</th>\n",
              "    </tr>\n",
              "  </thead>\n",
              "  <tbody>\n",
              "    <tr>\n",
              "      <th>count</th>\n",
              "      <td>1208.00</td>\n",
              "      <td>1208.00</td>\n",
              "      <td>1208.00</td>\n",
              "      <td>1208.00</td>\n",
              "      <td>1208.00</td>\n",
              "      <td>1208.00</td>\n",
              "      <td>1208.00</td>\n",
              "    </tr>\n",
              "    <tr>\n",
              "      <th>mean</th>\n",
              "      <td>562.50</td>\n",
              "      <td>1148.00</td>\n",
              "      <td>198.30</td>\n",
              "      <td>9.97</td>\n",
              "      <td>286.62</td>\n",
              "      <td>10.32</td>\n",
              "      <td>1.53</td>\n",
              "    </tr>\n",
              "    <tr>\n",
              "      <th>std</th>\n",
              "      <td>348.86</td>\n",
              "      <td>560.38</td>\n",
              "      <td>95.76</td>\n",
              "      <td>6.19</td>\n",
              "      <td>140.09</td>\n",
              "      <td>6.30</td>\n",
              "      <td>0.64</td>\n",
              "    </tr>\n",
              "    <tr>\n",
              "      <th>min</th>\n",
              "      <td>-41.00</td>\n",
              "      <td>0.00</td>\n",
              "      <td>1.00</td>\n",
              "      <td>1.00</td>\n",
              "      <td>0.00</td>\n",
              "      <td>0.00</td>\n",
              "      <td>0.00</td>\n",
              "    </tr>\n",
              "    <tr>\n",
              "      <th>25%</th>\n",
              "      <td>260.75</td>\n",
              "      <td>762.00</td>\n",
              "      <td>134.00</td>\n",
              "      <td>4.00</td>\n",
              "      <td>190.00</td>\n",
              "      <td>5.00</td>\n",
              "      <td>1.00</td>\n",
              "    </tr>\n",
              "    <tr>\n",
              "      <th>50%</th>\n",
              "      <td>562.50</td>\n",
              "      <td>1231.50</td>\n",
              "      <td>214.50</td>\n",
              "      <td>10.00</td>\n",
              "      <td>307.50</td>\n",
              "      <td>10.00</td>\n",
              "      <td>1.00</td>\n",
              "    </tr>\n",
              "    <tr>\n",
              "      <th>75%</th>\n",
              "      <td>864.25</td>\n",
              "      <td>1603.50</td>\n",
              "      <td>271.00</td>\n",
              "      <td>14.00</td>\n",
              "      <td>400.25</td>\n",
              "      <td>15.00</td>\n",
              "      <td>2.00</td>\n",
              "    </tr>\n",
              "    <tr>\n",
              "      <th>max</th>\n",
              "      <td>1166.00</td>\n",
              "      <td>2308.00</td>\n",
              "      <td>429.00</td>\n",
              "      <td>32.00</td>\n",
              "      <td>577.00</td>\n",
              "      <td>28.00</td>\n",
              "      <td>3.00</td>\n",
              "    </tr>\n",
              "  </tbody>\n",
              "</table>\n",
              "</div>\n",
              "    <div class=\"colab-df-buttons\">\n",
              "\n",
              "  <div class=\"colab-df-container\">\n",
              "    <button class=\"colab-df-convert\" onclick=\"convertToInteractive('df-3e35cfe3-9018-42cc-9461-82a4093471da')\"\n",
              "            title=\"Convert this dataframe to an interactive table.\"\n",
              "            style=\"display:none;\">\n",
              "\n",
              "  <svg xmlns=\"http://www.w3.org/2000/svg\" height=\"24px\" viewBox=\"0 -960 960 960\">\n",
              "    <path d=\"M120-120v-720h720v720H120Zm60-500h600v-160H180v160Zm220 220h160v-160H400v160Zm0 220h160v-160H400v160ZM180-400h160v-160H180v160Zm440 0h160v-160H620v160ZM180-180h160v-160H180v160Zm440 0h160v-160H620v160Z\"/>\n",
              "  </svg>\n",
              "    </button>\n",
              "\n",
              "  <style>\n",
              "    .colab-df-container {\n",
              "      display:flex;\n",
              "      gap: 12px;\n",
              "    }\n",
              "\n",
              "    .colab-df-convert {\n",
              "      background-color: #E8F0FE;\n",
              "      border: none;\n",
              "      border-radius: 50%;\n",
              "      cursor: pointer;\n",
              "      display: none;\n",
              "      fill: #1967D2;\n",
              "      height: 32px;\n",
              "      padding: 0 0 0 0;\n",
              "      width: 32px;\n",
              "    }\n",
              "\n",
              "    .colab-df-convert:hover {\n",
              "      background-color: #E2EBFA;\n",
              "      box-shadow: 0px 1px 2px rgba(60, 64, 67, 0.3), 0px 1px 3px 1px rgba(60, 64, 67, 0.15);\n",
              "      fill: #174EA6;\n",
              "    }\n",
              "\n",
              "    .colab-df-buttons div {\n",
              "      margin-bottom: 4px;\n",
              "    }\n",
              "\n",
              "    [theme=dark] .colab-df-convert {\n",
              "      background-color: #3B4455;\n",
              "      fill: #D2E3FC;\n",
              "    }\n",
              "\n",
              "    [theme=dark] .colab-df-convert:hover {\n",
              "      background-color: #434B5C;\n",
              "      box-shadow: 0px 1px 3px 1px rgba(0, 0, 0, 0.15);\n",
              "      filter: drop-shadow(0px 1px 2px rgba(0, 0, 0, 0.3));\n",
              "      fill: #FFFFFF;\n",
              "    }\n",
              "  </style>\n",
              "\n",
              "    <script>\n",
              "      const buttonEl =\n",
              "        document.querySelector('#df-3e35cfe3-9018-42cc-9461-82a4093471da button.colab-df-convert');\n",
              "      buttonEl.style.display =\n",
              "        google.colab.kernel.accessAllowed ? 'block' : 'none';\n",
              "\n",
              "      async function convertToInteractive(key) {\n",
              "        const element = document.querySelector('#df-3e35cfe3-9018-42cc-9461-82a4093471da');\n",
              "        const dataTable =\n",
              "          await google.colab.kernel.invokeFunction('convertToInteractive',\n",
              "                                                    [key], {});\n",
              "        if (!dataTable) return;\n",
              "\n",
              "        const docLinkHtml = 'Like what you see? Visit the ' +\n",
              "          '<a target=\"_blank\" href=https://colab.research.google.com/notebooks/data_table.ipynb>data table notebook</a>'\n",
              "          + ' to learn more about interactive tables.';\n",
              "        element.innerHTML = '';\n",
              "        dataTable['output_type'] = 'display_data';\n",
              "        await google.colab.output.renderOutput(dataTable, element);\n",
              "        const docLink = document.createElement('div');\n",
              "        docLink.innerHTML = docLinkHtml;\n",
              "        element.appendChild(docLink);\n",
              "      }\n",
              "    </script>\n",
              "  </div>\n",
              "\n",
              "\n",
              "    <div id=\"df-98451ef7-9d72-4b69-9eed-75f0f75c07d4\">\n",
              "      <button class=\"colab-df-quickchart\" onclick=\"quickchart('df-98451ef7-9d72-4b69-9eed-75f0f75c07d4')\"\n",
              "                title=\"Suggest charts\"\n",
              "                style=\"display:none;\">\n",
              "\n",
              "<svg xmlns=\"http://www.w3.org/2000/svg\" height=\"24px\"viewBox=\"0 0 24 24\"\n",
              "     width=\"24px\">\n",
              "    <g>\n",
              "        <path d=\"M19 3H5c-1.1 0-2 .9-2 2v14c0 1.1.9 2 2 2h14c1.1 0 2-.9 2-2V5c0-1.1-.9-2-2-2zM9 17H7v-7h2v7zm4 0h-2V7h2v10zm4 0h-2v-4h2v4z\"/>\n",
              "    </g>\n",
              "</svg>\n",
              "      </button>\n",
              "\n",
              "<style>\n",
              "  .colab-df-quickchart {\n",
              "      --bg-color: #E8F0FE;\n",
              "      --fill-color: #1967D2;\n",
              "      --hover-bg-color: #E2EBFA;\n",
              "      --hover-fill-color: #174EA6;\n",
              "      --disabled-fill-color: #AAA;\n",
              "      --disabled-bg-color: #DDD;\n",
              "  }\n",
              "\n",
              "  [theme=dark] .colab-df-quickchart {\n",
              "      --bg-color: #3B4455;\n",
              "      --fill-color: #D2E3FC;\n",
              "      --hover-bg-color: #434B5C;\n",
              "      --hover-fill-color: #FFFFFF;\n",
              "      --disabled-bg-color: #3B4455;\n",
              "      --disabled-fill-color: #666;\n",
              "  }\n",
              "\n",
              "  .colab-df-quickchart {\n",
              "    background-color: var(--bg-color);\n",
              "    border: none;\n",
              "    border-radius: 50%;\n",
              "    cursor: pointer;\n",
              "    display: none;\n",
              "    fill: var(--fill-color);\n",
              "    height: 32px;\n",
              "    padding: 0;\n",
              "    width: 32px;\n",
              "  }\n",
              "\n",
              "  .colab-df-quickchart:hover {\n",
              "    background-color: var(--hover-bg-color);\n",
              "    box-shadow: 0 1px 2px rgba(60, 64, 67, 0.3), 0 1px 3px 1px rgba(60, 64, 67, 0.15);\n",
              "    fill: var(--button-hover-fill-color);\n",
              "  }\n",
              "\n",
              "  .colab-df-quickchart-complete:disabled,\n",
              "  .colab-df-quickchart-complete:disabled:hover {\n",
              "    background-color: var(--disabled-bg-color);\n",
              "    fill: var(--disabled-fill-color);\n",
              "    box-shadow: none;\n",
              "  }\n",
              "\n",
              "  .colab-df-spinner {\n",
              "    border: 2px solid var(--fill-color);\n",
              "    border-color: transparent;\n",
              "    border-bottom-color: var(--fill-color);\n",
              "    animation:\n",
              "      spin 1s steps(1) infinite;\n",
              "  }\n",
              "\n",
              "  @keyframes spin {\n",
              "    0% {\n",
              "      border-color: transparent;\n",
              "      border-bottom-color: var(--fill-color);\n",
              "      border-left-color: var(--fill-color);\n",
              "    }\n",
              "    20% {\n",
              "      border-color: transparent;\n",
              "      border-left-color: var(--fill-color);\n",
              "      border-top-color: var(--fill-color);\n",
              "    }\n",
              "    30% {\n",
              "      border-color: transparent;\n",
              "      border-left-color: var(--fill-color);\n",
              "      border-top-color: var(--fill-color);\n",
              "      border-right-color: var(--fill-color);\n",
              "    }\n",
              "    40% {\n",
              "      border-color: transparent;\n",
              "      border-right-color: var(--fill-color);\n",
              "      border-top-color: var(--fill-color);\n",
              "    }\n",
              "    60% {\n",
              "      border-color: transparent;\n",
              "      border-right-color: var(--fill-color);\n",
              "    }\n",
              "    80% {\n",
              "      border-color: transparent;\n",
              "      border-right-color: var(--fill-color);\n",
              "      border-bottom-color: var(--fill-color);\n",
              "    }\n",
              "    90% {\n",
              "      border-color: transparent;\n",
              "      border-bottom-color: var(--fill-color);\n",
              "    }\n",
              "  }\n",
              "</style>\n",
              "\n",
              "      <script>\n",
              "        async function quickchart(key) {\n",
              "          const quickchartButtonEl =\n",
              "            document.querySelector('#' + key + ' button');\n",
              "          quickchartButtonEl.disabled = true;  // To prevent multiple clicks.\n",
              "          quickchartButtonEl.classList.add('colab-df-spinner');\n",
              "          try {\n",
              "            const charts = await google.colab.kernel.invokeFunction(\n",
              "                'suggestCharts', [key], {});\n",
              "          } catch (error) {\n",
              "            console.error('Error during call to suggestCharts:', error);\n",
              "          }\n",
              "          quickchartButtonEl.classList.remove('colab-df-spinner');\n",
              "          quickchartButtonEl.classList.add('colab-df-quickchart-complete');\n",
              "        }\n",
              "        (() => {\n",
              "          let quickchartButtonEl =\n",
              "            document.querySelector('#df-98451ef7-9d72-4b69-9eed-75f0f75c07d4 button');\n",
              "          quickchartButtonEl.style.display =\n",
              "            google.colab.kernel.accessAllowed ? 'block' : 'none';\n",
              "        })();\n",
              "      </script>\n",
              "    </div>\n",
              "\n",
              "    </div>\n",
              "  </div>\n"
            ],
            "application/vnd.google.colaboratory.intrinsic+json": {
              "type": "dataframe",
              "summary": "{\n  \"name\": \"df\",\n  \"rows\": 8,\n  \"fields\": [\n    {\n      \"column\": \"page_number\",\n      \"properties\": {\n        \"dtype\": \"number\",\n        \"std\": 439.07858752326854,\n        \"min\": -41.0,\n        \"max\": 1208.0,\n        \"num_unique_values\": 7,\n        \"samples\": [\n          1208.0,\n          562.5,\n          864.25\n        ],\n        \"semantic_type\": \"\",\n        \"description\": \"\"\n      }\n    },\n    {\n      \"column\": \"page_char_count\",\n      \"properties\": {\n        \"dtype\": \"number\",\n        \"std\": 692.7598126695862,\n        \"min\": 0.0,\n        \"max\": 2308.0,\n        \"num_unique_values\": 8,\n        \"samples\": [\n          1148.0,\n          1231.5,\n          1208.0\n        ],\n        \"semantic_type\": \"\",\n        \"description\": \"\"\n      }\n    },\n    {\n      \"column\": \"page_word_count\",\n      \"properties\": {\n        \"dtype\": \"number\",\n        \"std\": 380.86345761027945,\n        \"min\": 1.0,\n        \"max\": 1208.0,\n        \"num_unique_values\": 8,\n        \"samples\": [\n          198.3,\n          214.5,\n          1208.0\n        ],\n        \"semantic_type\": \"\",\n        \"description\": \"\"\n      }\n    },\n    {\n      \"column\": \"page_sentence_count\",\n      \"properties\": {\n        \"dtype\": \"number\",\n        \"std\": 423.3006680160771,\n        \"min\": 1.0,\n        \"max\": 1208.0,\n        \"num_unique_values\": 8,\n        \"samples\": [\n          9.97,\n          10.0,\n          1208.0\n        ],\n        \"semantic_type\": \"\",\n        \"description\": \"\"\n      }\n    },\n    {\n      \"column\": \"page_token_count\",\n      \"properties\": {\n        \"dtype\": \"number\",\n        \"std\": 373.4458955936111,\n        \"min\": 0.0,\n        \"max\": 1208.0,\n        \"num_unique_values\": 8,\n        \"samples\": [\n          286.62,\n          307.5,\n          1208.0\n        ],\n        \"semantic_type\": \"\",\n        \"description\": \"\"\n      }\n    },\n    {\n      \"column\": \"page_sentence_count_spacy\",\n      \"properties\": {\n        \"dtype\": \"number\",\n        \"std\": 423.405400861363,\n        \"min\": 0.0,\n        \"max\": 1208.0,\n        \"num_unique_values\": 8,\n        \"samples\": [\n          10.32,\n          10.0,\n          1208.0\n        ],\n        \"semantic_type\": \"\",\n        \"description\": \"\"\n      }\n    },\n    {\n      \"column\": \"num_chunks\",\n      \"properties\": {\n        \"dtype\": \"number\",\n        \"std\": 426.6303015471525,\n        \"min\": 0.0,\n        \"max\": 1208.0,\n        \"num_unique_values\": 7,\n        \"samples\": [\n          1208.0,\n          1.53,\n          2.0\n        ],\n        \"semantic_type\": \"\",\n        \"description\": \"\"\n      }\n    }\n  ]\n}"
            }
          },
          "metadata": {},
          "execution_count": 10
        }
      ]
    },
    {
      "cell_type": "markdown",
      "source": [
        "## biuld new metadata for each chunk"
      ],
      "metadata": {
        "id": "XivHjCeKf1N7"
      }
    },
    {
      "cell_type": "code",
      "source": [
        "import re\n",
        "\n",
        "chunks_metadata = []\n",
        "for page in tqdm(page_and_texts):\n",
        "  for sent_chunk in page['sentence_chunks']:\n",
        "    chunk_dict = {\"page_number\": page['page_number']}\n",
        "    chunk_text = ''.join(sent_chunk).replace('  ', ' ').strip()\n",
        "    chunk_text = re.sub(r'\\.([A-Z])', r'. \\1', chunk_text) # \".A\" -> \". A\"\n",
        "    chunk_dict[\"sentence_chunk\"] = chunk_text\n",
        "    chunk_dict['chunk_char_count'] = len(chunk_text)\n",
        "    chunk_dict['chunk_word_count'] = len(chunk_text.split(' '))\n",
        "    chunk_dict['chunk_token_count'] = len(chunk_text) // 4\n",
        "\n",
        "    chunks_metadata.append(chunk_dict)\n",
        "\n",
        "print(f\"Total {len(chunks_metadata)} chunks\")\n",
        "\n"
      ],
      "metadata": {
        "colab": {
          "base_uri": "https://localhost:8080/",
          "height": 67,
          "referenced_widgets": [
            "a080f3c3281b4afbaa45109ce77697ea",
            "b0e1ba862f654f59b9b66005e665a475",
            "664ebb53d32d43a59038f981e44bcb3b",
            "00893863b3234d9ab39e133faa2a7bf8",
            "ea495494475d429ea643d8d8a725d9dc",
            "21357cdaa7a34d1a881ac0ad5642aa40",
            "14bfcec8b1384ac7a05b3e2f32094c05",
            "0d1e626e8b934fe4899882ffc8ec4f1d",
            "da2855c541514d65b0fb7e2a2b2fb751",
            "ed46805c267c402e9126577943fb146b",
            "d7c9024dc3d54f36b139277a3b5bef0b"
          ]
        },
        "id": "UdRQfzvXfCrF",
        "outputId": "277f78a1-8bb4-4bb9-e2b5-13ace13e99f5"
      },
      "execution_count": 11,
      "outputs": [
        {
          "output_type": "display_data",
          "data": {
            "text/plain": [
              "  0%|          | 0/1208 [00:00<?, ?it/s]"
            ],
            "application/vnd.jupyter.widget-view+json": {
              "version_major": 2,
              "version_minor": 0,
              "model_id": "a080f3c3281b4afbaa45109ce77697ea"
            }
          },
          "metadata": {}
        },
        {
          "output_type": "stream",
          "name": "stdout",
          "text": [
            "Total 1843 chunks\n"
          ]
        }
      ]
    },
    {
      "cell_type": "code",
      "source": [
        "chunks_metadata[900]"
      ],
      "metadata": {
        "colab": {
          "base_uri": "https://localhost:8080/"
        },
        "id": "Xrw0eDwKh_wl",
        "outputId": "2dbe7721-6d9a-4255-e7b9-4ed69ee33f9c"
      },
      "execution_count": 12,
      "outputs": [
        {
          "output_type": "execute_result",
          "data": {
            "text/plain": [
              "{'page_number': 570,\n",
              " 'sentence_chunk': 'Pantothenic Acid (Vitamin B5) makes up coenzyme A, which carries the carbons of glucose, fatty acids, and amino acids into the citric acid cycle as Acetyl-CoA. Pantothenic acid forms coenzyme A, which is the main carrier of carbon molecules in a cell. Acetyl-CoA is the carbon carrier of glucose, fatty acids, and amino acids into the citric acid cycle (Figure 9.14 \u201cPantothenic Acid\u2019s Role in the Citric Acid Cycle\u201d). Coenzyme A is also involved in the synthesis of lipids, cholesterol, and acetylcholine (a neurotransmitter). A Pantothenic Acid deficiency is exceptionally rare. Signs and symptoms include fatigue, irritability, numbness, muscle pain, and cramps. You may have seen pantothenic acid on many ingredients lists for skin and hair care products; however there is no good scientific evidence that pantothenic acid improves human skin or hair. Dietary Reference Intakes Because there is little information on the requirements for pantothenic acids, the Food and Nutrition Board (FNB) has developed Adequate Intakes (AI) based on the observed dietary intakes in healthy population groups. The AI for different age groups 570 | Water-Soluble Vitamins',\n",
              " 'chunk_char_count': 1160,\n",
              " 'chunk_word_count': 178,\n",
              " 'chunk_token_count': 290}"
            ]
          },
          "metadata": {},
          "execution_count": 12
        }
      ]
    },
    {
      "cell_type": "code",
      "source": [
        "df = pd.DataFrame(chunks_metadata)\n",
        "df.describe().round(2)"
      ],
      "metadata": {
        "colab": {
          "base_uri": "https://localhost:8080/",
          "height": 320
        },
        "id": "r_YVrmH0iGel",
        "outputId": "2de5126e-6378-408a-d6af-bb319aabd070"
      },
      "execution_count": 13,
      "outputs": [
        {
          "output_type": "execute_result",
          "data": {
            "text/plain": [
              "       page_number  chunk_char_count  chunk_word_count  chunk_token_count\n",
              "count      1843.00           1843.00           1843.00            1843.00\n",
              "mean        583.38            734.44            112.33             183.23\n",
              "std         347.79            447.54             71.22             111.89\n",
              "min         -41.00             12.00              3.00               3.00\n",
              "25%         280.50            315.00             44.00              78.00\n",
              "50%         586.00            746.00            114.00             186.00\n",
              "75%         890.00           1118.50            173.00             279.00\n",
              "max        1166.00           1831.00            297.00             457.00"
            ],
            "text/html": [
              "\n",
              "  <div id=\"df-7e9ab270-a3a3-4bd3-95a6-003f1c3b16e9\" class=\"colab-df-container\">\n",
              "    <div>\n",
              "<style scoped>\n",
              "    .dataframe tbody tr th:only-of-type {\n",
              "        vertical-align: middle;\n",
              "    }\n",
              "\n",
              "    .dataframe tbody tr th {\n",
              "        vertical-align: top;\n",
              "    }\n",
              "\n",
              "    .dataframe thead th {\n",
              "        text-align: right;\n",
              "    }\n",
              "</style>\n",
              "<table border=\"1\" class=\"dataframe\">\n",
              "  <thead>\n",
              "    <tr style=\"text-align: right;\">\n",
              "      <th></th>\n",
              "      <th>page_number</th>\n",
              "      <th>chunk_char_count</th>\n",
              "      <th>chunk_word_count</th>\n",
              "      <th>chunk_token_count</th>\n",
              "    </tr>\n",
              "  </thead>\n",
              "  <tbody>\n",
              "    <tr>\n",
              "      <th>count</th>\n",
              "      <td>1843.00</td>\n",
              "      <td>1843.00</td>\n",
              "      <td>1843.00</td>\n",
              "      <td>1843.00</td>\n",
              "    </tr>\n",
              "    <tr>\n",
              "      <th>mean</th>\n",
              "      <td>583.38</td>\n",
              "      <td>734.44</td>\n",
              "      <td>112.33</td>\n",
              "      <td>183.23</td>\n",
              "    </tr>\n",
              "    <tr>\n",
              "      <th>std</th>\n",
              "      <td>347.79</td>\n",
              "      <td>447.54</td>\n",
              "      <td>71.22</td>\n",
              "      <td>111.89</td>\n",
              "    </tr>\n",
              "    <tr>\n",
              "      <th>min</th>\n",
              "      <td>-41.00</td>\n",
              "      <td>12.00</td>\n",
              "      <td>3.00</td>\n",
              "      <td>3.00</td>\n",
              "    </tr>\n",
              "    <tr>\n",
              "      <th>25%</th>\n",
              "      <td>280.50</td>\n",
              "      <td>315.00</td>\n",
              "      <td>44.00</td>\n",
              "      <td>78.00</td>\n",
              "    </tr>\n",
              "    <tr>\n",
              "      <th>50%</th>\n",
              "      <td>586.00</td>\n",
              "      <td>746.00</td>\n",
              "      <td>114.00</td>\n",
              "      <td>186.00</td>\n",
              "    </tr>\n",
              "    <tr>\n",
              "      <th>75%</th>\n",
              "      <td>890.00</td>\n",
              "      <td>1118.50</td>\n",
              "      <td>173.00</td>\n",
              "      <td>279.00</td>\n",
              "    </tr>\n",
              "    <tr>\n",
              "      <th>max</th>\n",
              "      <td>1166.00</td>\n",
              "      <td>1831.00</td>\n",
              "      <td>297.00</td>\n",
              "      <td>457.00</td>\n",
              "    </tr>\n",
              "  </tbody>\n",
              "</table>\n",
              "</div>\n",
              "    <div class=\"colab-df-buttons\">\n",
              "\n",
              "  <div class=\"colab-df-container\">\n",
              "    <button class=\"colab-df-convert\" onclick=\"convertToInteractive('df-7e9ab270-a3a3-4bd3-95a6-003f1c3b16e9')\"\n",
              "            title=\"Convert this dataframe to an interactive table.\"\n",
              "            style=\"display:none;\">\n",
              "\n",
              "  <svg xmlns=\"http://www.w3.org/2000/svg\" height=\"24px\" viewBox=\"0 -960 960 960\">\n",
              "    <path d=\"M120-120v-720h720v720H120Zm60-500h600v-160H180v160Zm220 220h160v-160H400v160Zm0 220h160v-160H400v160ZM180-400h160v-160H180v160Zm440 0h160v-160H620v160ZM180-180h160v-160H180v160Zm440 0h160v-160H620v160Z\"/>\n",
              "  </svg>\n",
              "    </button>\n",
              "\n",
              "  <style>\n",
              "    .colab-df-container {\n",
              "      display:flex;\n",
              "      gap: 12px;\n",
              "    }\n",
              "\n",
              "    .colab-df-convert {\n",
              "      background-color: #E8F0FE;\n",
              "      border: none;\n",
              "      border-radius: 50%;\n",
              "      cursor: pointer;\n",
              "      display: none;\n",
              "      fill: #1967D2;\n",
              "      height: 32px;\n",
              "      padding: 0 0 0 0;\n",
              "      width: 32px;\n",
              "    }\n",
              "\n",
              "    .colab-df-convert:hover {\n",
              "      background-color: #E2EBFA;\n",
              "      box-shadow: 0px 1px 2px rgba(60, 64, 67, 0.3), 0px 1px 3px 1px rgba(60, 64, 67, 0.15);\n",
              "      fill: #174EA6;\n",
              "    }\n",
              "\n",
              "    .colab-df-buttons div {\n",
              "      margin-bottom: 4px;\n",
              "    }\n",
              "\n",
              "    [theme=dark] .colab-df-convert {\n",
              "      background-color: #3B4455;\n",
              "      fill: #D2E3FC;\n",
              "    }\n",
              "\n",
              "    [theme=dark] .colab-df-convert:hover {\n",
              "      background-color: #434B5C;\n",
              "      box-shadow: 0px 1px 3px 1px rgba(0, 0, 0, 0.15);\n",
              "      filter: drop-shadow(0px 1px 2px rgba(0, 0, 0, 0.3));\n",
              "      fill: #FFFFFF;\n",
              "    }\n",
              "  </style>\n",
              "\n",
              "    <script>\n",
              "      const buttonEl =\n",
              "        document.querySelector('#df-7e9ab270-a3a3-4bd3-95a6-003f1c3b16e9 button.colab-df-convert');\n",
              "      buttonEl.style.display =\n",
              "        google.colab.kernel.accessAllowed ? 'block' : 'none';\n",
              "\n",
              "      async function convertToInteractive(key) {\n",
              "        const element = document.querySelector('#df-7e9ab270-a3a3-4bd3-95a6-003f1c3b16e9');\n",
              "        const dataTable =\n",
              "          await google.colab.kernel.invokeFunction('convertToInteractive',\n",
              "                                                    [key], {});\n",
              "        if (!dataTable) return;\n",
              "\n",
              "        const docLinkHtml = 'Like what you see? Visit the ' +\n",
              "          '<a target=\"_blank\" href=https://colab.research.google.com/notebooks/data_table.ipynb>data table notebook</a>'\n",
              "          + ' to learn more about interactive tables.';\n",
              "        element.innerHTML = '';\n",
              "        dataTable['output_type'] = 'display_data';\n",
              "        await google.colab.output.renderOutput(dataTable, element);\n",
              "        const docLink = document.createElement('div');\n",
              "        docLink.innerHTML = docLinkHtml;\n",
              "        element.appendChild(docLink);\n",
              "      }\n",
              "    </script>\n",
              "  </div>\n",
              "\n",
              "\n",
              "    <div id=\"df-d4f0dace-ccb9-4e0a-96ca-9cea5d24b99a\">\n",
              "      <button class=\"colab-df-quickchart\" onclick=\"quickchart('df-d4f0dace-ccb9-4e0a-96ca-9cea5d24b99a')\"\n",
              "                title=\"Suggest charts\"\n",
              "                style=\"display:none;\">\n",
              "\n",
              "<svg xmlns=\"http://www.w3.org/2000/svg\" height=\"24px\"viewBox=\"0 0 24 24\"\n",
              "     width=\"24px\">\n",
              "    <g>\n",
              "        <path d=\"M19 3H5c-1.1 0-2 .9-2 2v14c0 1.1.9 2 2 2h14c1.1 0 2-.9 2-2V5c0-1.1-.9-2-2-2zM9 17H7v-7h2v7zm4 0h-2V7h2v10zm4 0h-2v-4h2v4z\"/>\n",
              "    </g>\n",
              "</svg>\n",
              "      </button>\n",
              "\n",
              "<style>\n",
              "  .colab-df-quickchart {\n",
              "      --bg-color: #E8F0FE;\n",
              "      --fill-color: #1967D2;\n",
              "      --hover-bg-color: #E2EBFA;\n",
              "      --hover-fill-color: #174EA6;\n",
              "      --disabled-fill-color: #AAA;\n",
              "      --disabled-bg-color: #DDD;\n",
              "  }\n",
              "\n",
              "  [theme=dark] .colab-df-quickchart {\n",
              "      --bg-color: #3B4455;\n",
              "      --fill-color: #D2E3FC;\n",
              "      --hover-bg-color: #434B5C;\n",
              "      --hover-fill-color: #FFFFFF;\n",
              "      --disabled-bg-color: #3B4455;\n",
              "      --disabled-fill-color: #666;\n",
              "  }\n",
              "\n",
              "  .colab-df-quickchart {\n",
              "    background-color: var(--bg-color);\n",
              "    border: none;\n",
              "    border-radius: 50%;\n",
              "    cursor: pointer;\n",
              "    display: none;\n",
              "    fill: var(--fill-color);\n",
              "    height: 32px;\n",
              "    padding: 0;\n",
              "    width: 32px;\n",
              "  }\n",
              "\n",
              "  .colab-df-quickchart:hover {\n",
              "    background-color: var(--hover-bg-color);\n",
              "    box-shadow: 0 1px 2px rgba(60, 64, 67, 0.3), 0 1px 3px 1px rgba(60, 64, 67, 0.15);\n",
              "    fill: var(--button-hover-fill-color);\n",
              "  }\n",
              "\n",
              "  .colab-df-quickchart-complete:disabled,\n",
              "  .colab-df-quickchart-complete:disabled:hover {\n",
              "    background-color: var(--disabled-bg-color);\n",
              "    fill: var(--disabled-fill-color);\n",
              "    box-shadow: none;\n",
              "  }\n",
              "\n",
              "  .colab-df-spinner {\n",
              "    border: 2px solid var(--fill-color);\n",
              "    border-color: transparent;\n",
              "    border-bottom-color: var(--fill-color);\n",
              "    animation:\n",
              "      spin 1s steps(1) infinite;\n",
              "  }\n",
              "\n",
              "  @keyframes spin {\n",
              "    0% {\n",
              "      border-color: transparent;\n",
              "      border-bottom-color: var(--fill-color);\n",
              "      border-left-color: var(--fill-color);\n",
              "    }\n",
              "    20% {\n",
              "      border-color: transparent;\n",
              "      border-left-color: var(--fill-color);\n",
              "      border-top-color: var(--fill-color);\n",
              "    }\n",
              "    30% {\n",
              "      border-color: transparent;\n",
              "      border-left-color: var(--fill-color);\n",
              "      border-top-color: var(--fill-color);\n",
              "      border-right-color: var(--fill-color);\n",
              "    }\n",
              "    40% {\n",
              "      border-color: transparent;\n",
              "      border-right-color: var(--fill-color);\n",
              "      border-top-color: var(--fill-color);\n",
              "    }\n",
              "    60% {\n",
              "      border-color: transparent;\n",
              "      border-right-color: var(--fill-color);\n",
              "    }\n",
              "    80% {\n",
              "      border-color: transparent;\n",
              "      border-right-color: var(--fill-color);\n",
              "      border-bottom-color: var(--fill-color);\n",
              "    }\n",
              "    90% {\n",
              "      border-color: transparent;\n",
              "      border-bottom-color: var(--fill-color);\n",
              "    }\n",
              "  }\n",
              "</style>\n",
              "\n",
              "      <script>\n",
              "        async function quickchart(key) {\n",
              "          const quickchartButtonEl =\n",
              "            document.querySelector('#' + key + ' button');\n",
              "          quickchartButtonEl.disabled = true;  // To prevent multiple clicks.\n",
              "          quickchartButtonEl.classList.add('colab-df-spinner');\n",
              "          try {\n",
              "            const charts = await google.colab.kernel.invokeFunction(\n",
              "                'suggestCharts', [key], {});\n",
              "          } catch (error) {\n",
              "            console.error('Error during call to suggestCharts:', error);\n",
              "          }\n",
              "          quickchartButtonEl.classList.remove('colab-df-spinner');\n",
              "          quickchartButtonEl.classList.add('colab-df-quickchart-complete');\n",
              "        }\n",
              "        (() => {\n",
              "          let quickchartButtonEl =\n",
              "            document.querySelector('#df-d4f0dace-ccb9-4e0a-96ca-9cea5d24b99a button');\n",
              "          quickchartButtonEl.style.display =\n",
              "            google.colab.kernel.accessAllowed ? 'block' : 'none';\n",
              "        })();\n",
              "      </script>\n",
              "    </div>\n",
              "\n",
              "    </div>\n",
              "  </div>\n"
            ],
            "application/vnd.google.colaboratory.intrinsic+json": {
              "type": "dataframe",
              "summary": "{\n  \"name\": \"df\",\n  \"rows\": 8,\n  \"fields\": [\n    {\n      \"column\": \"page_number\",\n      \"properties\": {\n        \"dtype\": \"number\",\n        \"std\": 589.7974185972065,\n        \"min\": -41.0,\n        \"max\": 1843.0,\n        \"num_unique_values\": 8,\n        \"samples\": [\n          583.38,\n          586.0,\n          1843.0\n        ],\n        \"semantic_type\": \"\",\n        \"description\": \"\"\n      }\n    },\n    {\n      \"column\": \"chunk_char_count\",\n      \"properties\": {\n        \"dtype\": \"number\",\n        \"std\": 674.7972839940261,\n        \"min\": 12.0,\n        \"max\": 1843.0,\n        \"num_unique_values\": 8,\n        \"samples\": [\n          734.44,\n          746.0,\n          1843.0\n        ],\n        \"semantic_type\": \"\",\n        \"description\": \"\"\n      }\n    },\n    {\n      \"column\": \"chunk_word_count\",\n      \"properties\": {\n        \"dtype\": \"number\",\n        \"std\": 616.9738147936844,\n        \"min\": 3.0,\n        \"max\": 1843.0,\n        \"num_unique_values\": 8,\n        \"samples\": [\n          112.33,\n          114.0,\n          1843.0\n        ],\n        \"semantic_type\": \"\",\n        \"description\": \"\"\n      }\n    },\n    {\n      \"column\": \"chunk_token_count\",\n      \"properties\": {\n        \"dtype\": \"number\",\n        \"std\": 601.9956393055162,\n        \"min\": 3.0,\n        \"max\": 1843.0,\n        \"num_unique_values\": 8,\n        \"samples\": [\n          183.23,\n          186.0,\n          1843.0\n        ],\n        \"semantic_type\": \"\",\n        \"description\": \"\"\n      }\n    }\n  ]\n}"
            }
          },
          "metadata": {},
          "execution_count": 13
        }
      ]
    },
    {
      "cell_type": "markdown",
      "source": [
        "looks like some chunks with very little tokens(min 3..), check if can filter out."
      ],
      "metadata": {
        "id": "xv9o4VGUjsgj"
      }
    },
    {
      "cell_type": "code",
      "source": [
        "min_token = 30\n",
        "for row in df[df['chunk_token_count'] <= min_token].sample(10).iterrows():\n",
        "  print(f\"token count:{row[1]['chunk_token_count']}, content: {row[1]['sentence_chunk']}\")"
      ],
      "metadata": {
        "colab": {
          "base_uri": "https://localhost:8080/"
        },
        "id": "m9pKnCWojRBd",
        "outputId": "a2b2b03d-ca13-467d-e19f-c0d6b6ee409f"
      },
      "execution_count": 14,
      "outputs": [
        {
          "output_type": "stream",
          "name": "stdout",
          "text": [
            "token count:25, content: http://www.ajcn.org/cgi/ pmidlookup?view=long&pmid=10197575. Accessed October 6, 2017. 640 | Magnesium\n",
            "token count:28, content: Accessed September 22, 2017. Dietary, Behavioral, and Physical Activity Recommendations for Weight Management | 505\n",
            "token count:25, content: The Polynesian Family System in Ka-\u2018u. Rutland, Vermont: Charles E. Tuttle Company 780 | Introduction\n",
            "token count:29, content: 2. Lacto-vegetarian. This type of vegetarian diet includes dairy products but not eggs. Lifestyles and Nutrition | 27\n",
            "token count:11, content: Accessed March 17, 2018. Sports Nutrition | 961\n",
            "token count:30, content: Weight-bearing exercises requires your body to move against gravity which requires more energy. Men Sports Nutrition | 959\n",
            "token count:3, content: 828 | Infancy\n",
            "token count:3, content: 814 | Infancy\n",
            "token count:29, content: 2010). EH. Net Encyclopedia. http://eh.net/?s=History+of+Food+and+Drug+Regulatio Protecting the Public Health | 1011\n",
            "token count:25, content: http://www.ncbi.nlm.nih.gov/ pubmed/3966752?dopt=Abstract. Accessed November 22, 2017. 618 | Calcium\n"
          ]
        }
      ]
    },
    {
      "cell_type": "markdown",
      "source": [
        "seems most of them are headers, footers, etc."
      ],
      "metadata": {
        "id": "9GyOvrMalDk1"
      }
    },
    {
      "cell_type": "code",
      "source": [
        "# filter out short chunks\n",
        "filtered_chunks = df[df['chunk_token_count'] > min_token].to_dict(orient=\"records\")\n",
        "print(f\"Filtered chunks {len(filtered_chunks)}/{len(chunks_metadata)}\")"
      ],
      "metadata": {
        "colab": {
          "base_uri": "https://localhost:8080/"
        },
        "id": "FjfdMZa5kS2R",
        "outputId": "6bf7f7cb-a940-41a9-ffb1-e179ad7e9834"
      },
      "execution_count": 15,
      "outputs": [
        {
          "output_type": "stream",
          "name": "stdout",
          "text": [
            "Filtered chunks 1673/1843\n"
          ]
        }
      ]
    },
    {
      "cell_type": "markdown",
      "source": [
        "# Embedding chunks\n",
        "\n",
        "use pre-trained `all-mpnet-base-v2` from sentence-transformers as our embedding model.\n",
        "\n",
        "1. model card from HF https://huggingface.co/sentence-transformers/all-mpnet-base-v2#intended-uses\n",
        "2. what is embedding? https://vickiboykis.com/what_are_embeddings/index.html"
      ],
      "metadata": {
        "id": "mh6qEcli4Oqc"
      }
    },
    {
      "cell_type": "code",
      "source": [
        "%pip install sentence-transformers"
      ],
      "metadata": {
        "collapsed": true,
        "id": "Ak5Rr956390j"
      },
      "execution_count": null,
      "outputs": []
    },
    {
      "cell_type": "code",
      "source": [
        "from sentence_transformers import SentenceTransformer\n",
        "\n",
        "embedding_model = SentenceTransformer(model_name_or_path='all-mpnet-base-v2', device='cpu')\n"
      ],
      "metadata": {
        "colab": {
          "base_uri": "https://localhost:8080/",
          "height": 532,
          "referenced_widgets": [
            "d7d13b54257e4483be762e17ce25d40a",
            "0f034213174f4976b7a7d35cf7433b66",
            "92e75e44cbf74aad95dd190b7caafbdd",
            "6cf5923fe28946ed99a6f4ccff8d006f",
            "871def27bfd34150ae77af0bc35b77a6",
            "546a723a5e0d47abb9f3a50bb0fdd0b1",
            "25960a3b9c8e4011864d62d9b4bcd4e3",
            "3d038e36d7134c51af12145c3a66e349",
            "2bdb8edda7744bf08de8f1a246904fd2",
            "ae47318f5b404405903263886bd5ae92",
            "516999f9a19d4090b79bc131d9f40487",
            "cf89b9523e9b4935a6bb7607f4978ed8",
            "93a6e451166542f9a135112a04ce0592",
            "a4b3adb7d27c48fb98739344133ba195",
            "ca7452e3fb89400e8efd90f9cf37051e",
            "5bcf998522224e1d92d5dedf66c6d08f",
            "0c09a37ef26f47b9b542f9a238c0c7be",
            "89e6d8036ccf43b1814b55afb4bd8a40",
            "9d3aee042b2f4c15af3098882b415df9",
            "74f8b75da58e4741a7e50967dcd26107",
            "3e7fca6135dd4a74a2224e940c7ebeec",
            "680050ace3e44593add7d25fb324fbb3",
            "d7eb45ec79e64ddd84cfa8b71b94f9c1",
            "0eae5b87cc5a478b828500df1c7680f1",
            "ebe49617e327487582f90195b64f5255",
            "329d7fa69401453fa67df981abf2c389",
            "cd66a713808b4f0b84e7d410d68575e6",
            "87d592801e7344a39ce4ab5383ed9481",
            "70ca3fb0001e4b9e9bfb9d76cfcfa9d0",
            "c3297e4329004ff9b512a5862e2da68d",
            "75b41478e24c4f17b8bde476b189ac5d",
            "390750e1a9c64a1fb5b46f8d0076611f",
            "3440dd2a8c194da4ba0db1105eb3f1ad",
            "46f48ecb89db4016b98ea566fddf59f2",
            "6b93260a27b044e6b7cb49186b438581",
            "6270b814d87a4186b514020b55230e1c",
            "2372bf7b5ed04d6d91a148774c94d249",
            "c497e8ffc06c4103a6c56e80d450a790",
            "8d7f3b9e0e9b4803a99964d5070dbcde",
            "df65c6142852490783eb8f298452de9f",
            "2babe9fe08934e9582813923dcb070e1",
            "6bec1741f7a64a54a7bcc5defa110e66",
            "5be2d8b969844639b9834e5bc3708ebd",
            "3fcf12b9c0c64a7d99ae4d74a959a656",
            "a7651b3ab7884bdc854e0634b12e3e1d",
            "c8fa31ba628a4c8d92252c6d88a0f08f",
            "858f3611214b4088910a3421b3e6377d",
            "f987b3ab9c904afb951d2ece5dc6eefb",
            "59b24be29c854f21b081a4e709222d2f",
            "dbb62426695e467a84147bd1ab447a53",
            "82309b135499421abeb041bf76445940",
            "d6f14341ed05415b91f57bb977ccfadd",
            "36f3b9fb833c4aa4ada2f8e55168c8f8",
            "08b222de8d78463fabcf3e52996bc9df",
            "72fbfffaf0ba44d69978045394ed2694",
            "a0b227cb97d94695b87b451825275430",
            "1e529aca4ea54cbea6db87e8f9483770",
            "4aa791d2713e4c92b2ca4d1c5e4319ca",
            "893c0a8d6c8a458e8e506699428ce3c1",
            "02cb9495f9b7441994182715467a4ac0",
            "1f28008e6069435cb86323d6b7646935",
            "e1c0c3e6b69a4dcbb43c0dda67e8df2e",
            "14d4555f0d314f52a8b89fc9edc216c9",
            "6c4d7bd302d944529469d7718b9b194f",
            "c9e81f032bad40708c44dbb46f83dff2",
            "5c658efbafb34b329e86bb73b3c3a1bd",
            "e205713b51ac413fbaba231ee1d9a066",
            "8e4d08377e524d60bac72a1a8d5fc679",
            "b0e6b5e9ac0c458694ce036d8bd0adba",
            "4bec0391da2f44f8914694173ee5b603",
            "333ae969b8a546b0bc5ad2f430107bf0",
            "a869520365a54e2ab71e24ebed75f784",
            "a1907acf119941769b70c8f8836f6cc4",
            "2054c00b0299490e93781fb2ea3582ab",
            "42e6297ae2954b3894b8020e7a5e6fc1",
            "946678e3c52c4ce3bcbbbb4371030d60",
            "1ccabe3a1da74f7a8d6e4b7296dde9cc",
            "d7bffb6a9fbb4bd095434879c7310a02",
            "60ebd8a486ef4fc587b050ab658e0c9b",
            "80c0d5b30b8149fbbd10792ed3f07c8c",
            "43f2f2833622446184c9f08102203752",
            "9922c4776af448e3b949684ef72a3967",
            "b61cda6dd5144545a7faa582541313ee",
            "a77d9343447b43ee8f770ce7c4c82259",
            "e2d4619be2354f7cb0df5a3e1393fb35",
            "abbb5d0b2c1b4fc080c7d1b107ddbd93",
            "11c168e8d028411b93c27f7e26cc8e68",
            "fe2c031a3a9845ee81df9787f7a18747",
            "437b51f851124fcfb03fcc7d83ccfc45",
            "b10993c46ead497989806df916de8e98",
            "4b2bfe930a734c7d8e3b4db5dacc730b",
            "20ddb7029d86407296dfe7fdc185511f",
            "1b70e1c986f54c35ad9237177b868aeb",
            "8bc3f38fbc7a4a14b9e987e16823bf94",
            "9513abefce9d443c95b96f8d4ce495d4",
            "a439cc5aaad34b9fa198817b3f179d23",
            "238f0c5744544ca38d7e4d37ed77c75f",
            "49fe24fdb1c4487288df5c1809d6f076",
            "d8d1fef43e614a798c999e86f5d16fd6",
            "d35b5edcb768434694a1a0efa4665ecf",
            "5d75bbbf5ecb481297730e574dd25738",
            "10c3cc5b91bc4a32be6630213b377ace",
            "bf386e336c7c4690b1cc5d1549ac7249",
            "dd03e6f360ae4686906e110c4ca7e0ec",
            "db2b606d416147f68cf4767027b2b262",
            "873501ab6eec4cda88fad3c42b52f0db",
            "5e36c4449b77479099ee79b9a44ac113",
            "595717492550424e9b403c2a91ed4cf3",
            "86e8aaca122541e4a2c4d719e851b05b",
            "c599b7a4ac154c76a63b037b8865d07e",
            "9928d96b014546a1a8a87abedc5f9bd5",
            "879b3f0b12b24e418e755eaa1b3c75e1",
            "647af6e01cb94694b8667038e02c771f",
            "83d8125a29aa4abab679b7e441d34b5d",
            "4ae224c5ee354560b3126c23e3a8d497",
            "3a267672de1c4e899a5486778aa5834c",
            "7e1996122fe94325808e1c74d3bcb49c",
            "b33ffd2090ee423781939f4578b4650f",
            "854c307a0b984270b96a8c5b24bc4211",
            "3e4fcbfa889b484da8bfbba51f11ad41",
            "5756493379724b158eb4bca04f530a86"
          ]
        },
        "id": "h0aYuZuZQ_7b",
        "outputId": "f3c8becd-01fb-4520-eadf-07683ca933a1"
      },
      "execution_count": 17,
      "outputs": [
        {
          "output_type": "stream",
          "name": "stderr",
          "text": [
            "/usr/local/lib/python3.11/dist-packages/huggingface_hub/utils/_auth.py:94: UserWarning: \n",
            "The secret `HF_TOKEN` does not exist in your Colab secrets.\n",
            "To authenticate with the Hugging Face Hub, create a token in your settings tab (https://huggingface.co/settings/tokens), set it as secret in your Google Colab and restart your session.\n",
            "You will be able to reuse this secret in all of your notebooks.\n",
            "Please note that authentication is recommended but still optional to access public models or datasets.\n",
            "  warnings.warn(\n"
          ]
        },
        {
          "output_type": "display_data",
          "data": {
            "text/plain": [
              "modules.json:   0%|          | 0.00/349 [00:00<?, ?B/s]"
            ],
            "application/vnd.jupyter.widget-view+json": {
              "version_major": 2,
              "version_minor": 0,
              "model_id": "d7d13b54257e4483be762e17ce25d40a"
            }
          },
          "metadata": {}
        },
        {
          "output_type": "display_data",
          "data": {
            "text/plain": [
              "config_sentence_transformers.json:   0%|          | 0.00/116 [00:00<?, ?B/s]"
            ],
            "application/vnd.jupyter.widget-view+json": {
              "version_major": 2,
              "version_minor": 0,
              "model_id": "cf89b9523e9b4935a6bb7607f4978ed8"
            }
          },
          "metadata": {}
        },
        {
          "output_type": "display_data",
          "data": {
            "text/plain": [
              "README.md:   0%|          | 0.00/10.4k [00:00<?, ?B/s]"
            ],
            "application/vnd.jupyter.widget-view+json": {
              "version_major": 2,
              "version_minor": 0,
              "model_id": "d7eb45ec79e64ddd84cfa8b71b94f9c1"
            }
          },
          "metadata": {}
        },
        {
          "output_type": "display_data",
          "data": {
            "text/plain": [
              "sentence_bert_config.json:   0%|          | 0.00/53.0 [00:00<?, ?B/s]"
            ],
            "application/vnd.jupyter.widget-view+json": {
              "version_major": 2,
              "version_minor": 0,
              "model_id": "46f48ecb89db4016b98ea566fddf59f2"
            }
          },
          "metadata": {}
        },
        {
          "output_type": "display_data",
          "data": {
            "text/plain": [
              "config.json:   0%|          | 0.00/571 [00:00<?, ?B/s]"
            ],
            "application/vnd.jupyter.widget-view+json": {
              "version_major": 2,
              "version_minor": 0,
              "model_id": "a7651b3ab7884bdc854e0634b12e3e1d"
            }
          },
          "metadata": {}
        },
        {
          "output_type": "stream",
          "name": "stderr",
          "text": [
            "Xet Storage is enabled for this repo, but the 'hf_xet' package is not installed. Falling back to regular HTTP download. For better performance, install the package with: `pip install huggingface_hub[hf_xet]` or `pip install hf_xet`\n",
            "WARNING:huggingface_hub.file_download:Xet Storage is enabled for this repo, but the 'hf_xet' package is not installed. Falling back to regular HTTP download. For better performance, install the package with: `pip install huggingface_hub[hf_xet]` or `pip install hf_xet`\n"
          ]
        },
        {
          "output_type": "display_data",
          "data": {
            "text/plain": [
              "model.safetensors:   0%|          | 0.00/438M [00:00<?, ?B/s]"
            ],
            "application/vnd.jupyter.widget-view+json": {
              "version_major": 2,
              "version_minor": 0,
              "model_id": "a0b227cb97d94695b87b451825275430"
            }
          },
          "metadata": {}
        },
        {
          "output_type": "display_data",
          "data": {
            "text/plain": [
              "tokenizer_config.json:   0%|          | 0.00/363 [00:00<?, ?B/s]"
            ],
            "application/vnd.jupyter.widget-view+json": {
              "version_major": 2,
              "version_minor": 0,
              "model_id": "e205713b51ac413fbaba231ee1d9a066"
            }
          },
          "metadata": {}
        },
        {
          "output_type": "display_data",
          "data": {
            "text/plain": [
              "vocab.txt:   0%|          | 0.00/232k [00:00<?, ?B/s]"
            ],
            "application/vnd.jupyter.widget-view+json": {
              "version_major": 2,
              "version_minor": 0,
              "model_id": "d7bffb6a9fbb4bd095434879c7310a02"
            }
          },
          "metadata": {}
        },
        {
          "output_type": "display_data",
          "data": {
            "text/plain": [
              "tokenizer.json:   0%|          | 0.00/466k [00:00<?, ?B/s]"
            ],
            "application/vnd.jupyter.widget-view+json": {
              "version_major": 2,
              "version_minor": 0,
              "model_id": "437b51f851124fcfb03fcc7d83ccfc45"
            }
          },
          "metadata": {}
        },
        {
          "output_type": "display_data",
          "data": {
            "text/plain": [
              "special_tokens_map.json:   0%|          | 0.00/239 [00:00<?, ?B/s]"
            ],
            "application/vnd.jupyter.widget-view+json": {
              "version_major": 2,
              "version_minor": 0,
              "model_id": "d35b5edcb768434694a1a0efa4665ecf"
            }
          },
          "metadata": {}
        },
        {
          "output_type": "display_data",
          "data": {
            "text/plain": [
              "config.json:   0%|          | 0.00/190 [00:00<?, ?B/s]"
            ],
            "application/vnd.jupyter.widget-view+json": {
              "version_major": 2,
              "version_minor": 0,
              "model_id": "9928d96b014546a1a8a87abedc5f9bd5"
            }
          },
          "metadata": {}
        }
      ]
    },
    {
      "cell_type": "code",
      "source": [
        "%%time\n",
        "import torch\n",
        "\n",
        "device = 'cuda' if torch.cuda.is_available() else 'cpu'\n",
        "embedding_model.to(device)\n",
        "\n",
        "for item in tqdm(filtered_chunks):\n",
        "  item['embedding'] = embedding_model.encode(item[\"sentence_chunk\"])"
      ],
      "metadata": {
        "colab": {
          "base_uri": "https://localhost:8080/",
          "height": 85,
          "referenced_widgets": [
            "eb8c9dc96cb444bd9869ca42cdbbbe00",
            "50e87ebcadba4c4b8432dd1683a7d3c2",
            "94f1db6db3934af1b9a5778a0e55fbb4",
            "fc31ea3961d14da6b0155751bd70037b",
            "43c8fe67668c4d02b39e050e61abc8bc",
            "c90ee263aace4a38890054e4e681d4b8",
            "bccf1e499c02460dbf8166174b859a89",
            "1cb423ecf3374c0b90da2f31eef443e8",
            "4905c0469c154a9d94ece90c8d3c57a5",
            "d7838ecee6e640d98b92b965a1dc112a",
            "5180ac7c4b974059b17ca57b9e84af4f"
          ]
        },
        "id": "OqbM2fpwVEGB",
        "outputId": "a271ab2a-7270-40d4-c15b-03159ff786b5"
      },
      "execution_count": 18,
      "outputs": [
        {
          "output_type": "display_data",
          "data": {
            "text/plain": [
              "  0%|          | 0/1673 [00:00<?, ?it/s]"
            ],
            "application/vnd.jupyter.widget-view+json": {
              "version_major": 2,
              "version_minor": 0,
              "model_id": "eb8c9dc96cb444bd9869ca42cdbbbe00"
            }
          },
          "metadata": {}
        },
        {
          "output_type": "stream",
          "name": "stdout",
          "text": [
            "CPU times: user 32.6 s, sys: 575 ms, total: 33.2 s\n",
            "Wall time: 38.6 s\n"
          ]
        }
      ]
    },
    {
      "cell_type": "markdown",
      "source": [
        "## Saving embeddings to file\n",
        "Since we only have less than 2000 embeddings, a csv file is enough."
      ],
      "metadata": {
        "id": "wyvFo1GpW7CJ"
      }
    },
    {
      "cell_type": "code",
      "source": [
        "filtered_chunks_df = pd.DataFrame(filtered_chunks)\n",
        "embedding_file = 'text_chunks_and_embeddings_df.csv'\n",
        "filtered_chunks_df.to_csv(embedding_file, index=False)"
      ],
      "metadata": {
        "id": "tyfkd7gNW6Tf"
      },
      "execution_count": 19,
      "outputs": []
    },
    {
      "cell_type": "code",
      "source": [
        "filtered_chunks_df['embedding']"
      ],
      "metadata": {
        "colab": {
          "base_uri": "https://localhost:8080/",
          "height": 458
        },
        "id": "_3YrhCAS7wod",
        "outputId": "41dd655d-6030-4eb3-d7ed-8d7212fb444f"
      },
      "execution_count": 20,
      "outputs": [
        {
          "output_type": "execute_result",
          "data": {
            "text/plain": [
              "0       [0.06742427, 0.09022814, -0.005095489, -0.0317...\n",
              "1       [0.05521564, 0.059213977, -0.016616724, -0.020...\n",
              "2       [0.027980184, 0.033981375, -0.020642668, 0.001...\n",
              "3       [0.06825669, 0.0381275, -0.008468541, -0.01813...\n",
              "4       [0.03302645, -0.008497635, 0.009571596, -0.004...\n",
              "                              ...                        \n",
              "1668    [0.018562254, -0.016427767, -0.012704563, -0.0...\n",
              "1669    [0.03347206, -0.057044085, 0.015148939, -0.010...\n",
              "1670    [0.07705155, 0.009785576, -0.012181741, 0.0010...\n",
              "1671    [0.10304516, -0.016470186, 0.008268461, 0.0377...\n",
              "1672    [0.086377345, -0.012535894, -0.011274674, 0.04...\n",
              "Name: embedding, Length: 1673, dtype: object"
            ],
            "text/html": [
              "<div>\n",
              "<style scoped>\n",
              "    .dataframe tbody tr th:only-of-type {\n",
              "        vertical-align: middle;\n",
              "    }\n",
              "\n",
              "    .dataframe tbody tr th {\n",
              "        vertical-align: top;\n",
              "    }\n",
              "\n",
              "    .dataframe thead th {\n",
              "        text-align: right;\n",
              "    }\n",
              "</style>\n",
              "<table border=\"1\" class=\"dataframe\">\n",
              "  <thead>\n",
              "    <tr style=\"text-align: right;\">\n",
              "      <th></th>\n",
              "      <th>embedding</th>\n",
              "    </tr>\n",
              "  </thead>\n",
              "  <tbody>\n",
              "    <tr>\n",
              "      <th>0</th>\n",
              "      <td>[0.06742427, 0.09022814, -0.005095489, -0.0317...</td>\n",
              "    </tr>\n",
              "    <tr>\n",
              "      <th>1</th>\n",
              "      <td>[0.05521564, 0.059213977, -0.016616724, -0.020...</td>\n",
              "    </tr>\n",
              "    <tr>\n",
              "      <th>2</th>\n",
              "      <td>[0.027980184, 0.033981375, -0.020642668, 0.001...</td>\n",
              "    </tr>\n",
              "    <tr>\n",
              "      <th>3</th>\n",
              "      <td>[0.06825669, 0.0381275, -0.008468541, -0.01813...</td>\n",
              "    </tr>\n",
              "    <tr>\n",
              "      <th>4</th>\n",
              "      <td>[0.03302645, -0.008497635, 0.009571596, -0.004...</td>\n",
              "    </tr>\n",
              "    <tr>\n",
              "      <th>...</th>\n",
              "      <td>...</td>\n",
              "    </tr>\n",
              "    <tr>\n",
              "      <th>1668</th>\n",
              "      <td>[0.018562254, -0.016427767, -0.012704563, -0.0...</td>\n",
              "    </tr>\n",
              "    <tr>\n",
              "      <th>1669</th>\n",
              "      <td>[0.03347206, -0.057044085, 0.015148939, -0.010...</td>\n",
              "    </tr>\n",
              "    <tr>\n",
              "      <th>1670</th>\n",
              "      <td>[0.07705155, 0.009785576, -0.012181741, 0.0010...</td>\n",
              "    </tr>\n",
              "    <tr>\n",
              "      <th>1671</th>\n",
              "      <td>[0.10304516, -0.016470186, 0.008268461, 0.0377...</td>\n",
              "    </tr>\n",
              "    <tr>\n",
              "      <th>1672</th>\n",
              "      <td>[0.086377345, -0.012535894, -0.011274674, 0.04...</td>\n",
              "    </tr>\n",
              "  </tbody>\n",
              "</table>\n",
              "<p>1673 rows \u00d7 1 columns</p>\n",
              "</div><br><label><b>dtype:</b> object</label>"
            ]
          },
          "metadata": {},
          "execution_count": 20
        }
      ]
    },
    {
      "cell_type": "code",
      "source": [
        "# save to drive\n",
        "save_to_drive=True\n",
        "embedding_file_drive = '/content/drive/My Drive/rag_from_scratch/text_chunks_and_embeddings_df.csv'\n",
        "if save_to_drive:\n",
        "  import shutil\n",
        "  from google.colab import drive\n",
        "  drive.mount('/content/drive')\n",
        "\n",
        "  shutil.copy(embedding_file, embedding_file_drive)"
      ],
      "metadata": {
        "colab": {
          "base_uri": "https://localhost:8080/"
        },
        "id": "UsqB0SAXQSuM",
        "outputId": "09b115f9-959b-41d4-b982-57b925614364"
      },
      "execution_count": 21,
      "outputs": [
        {
          "output_type": "stream",
          "name": "stdout",
          "text": [
            "Mounted at /content/drive\n"
          ]
        }
      ]
    },
    {
      "cell_type": "markdown",
      "source": [
        "### Chunking and embedding notes\n",
        "\n",
        "1. how to choose embedding model?  \n",
        "Experiment more. Refer to HF's leaderboard\n",
        "https://huggingface.co/spaces/mteb/leaderboard\n",
        "2. other ways of chunking  \n",
        "for more details https://www.pinecone.io/learn/chunking-strategies/  \n",
        "some references from langchain https://python.langchain.com/docs/modules/data_connection/document_transformers/  \n",
        "3. when creating embeddings, thinking about  \n",
        "- size of input - If you need to embed longer sequences, choose a model with a larger input capacity.\n",
        "- size of embedding vector - Larger is generally a better representation but requires more compute/storage.\n",
        "- size of model - Larger models generally result in better embeddings but require more compute power/time to run.\n",
        "- open or closed - Open models allow you to run them on your own hardware whereas closed models can be easier to setup but require an API call to get embeddings.\n",
        "\n",
        "4. where to store embeddings  \n",
        "for small dataset, maybe under 100,000 examples, store in memory is good enough - np.array, torch.tensor.  \n",
        "large dataset or production env, use vector database."
      ],
      "metadata": {
        "id": "DwRO4mASYEIf"
      }
    },
    {
      "cell_type": "markdown",
      "source": [
        "## Similarity Search"
      ],
      "metadata": {
        "id": "lhzxeUCy73z4"
      }
    },
    {
      "cell_type": "code",
      "source": [
        "import shutil\n",
        "from google.colab import drive\n",
        "embedding_file_drive = '/content/drive/My Drive/rag_from_scratch/text_chunks_and_embeddings_df.csv'\n",
        "drive.mount('/content/drive')\n",
        "save_to_drive = True"
      ],
      "metadata": {
        "colab": {
          "base_uri": "https://localhost:8080/"
        },
        "id": "JjX5UtvJk3DJ",
        "outputId": "fd882c86-b170-4995-d026-681c27adb303"
      },
      "execution_count": 3,
      "outputs": [
        {
          "output_type": "stream",
          "name": "stdout",
          "text": [
            "Drive already mounted at /content/drive; to attempt to forcibly remount, call drive.mount(\"/content/drive\", force_remount=True).\n"
          ]
        }
      ]
    },
    {
      "cell_type": "markdown",
      "source": [
        "### load embeddings from pre-saved csv file to memory"
      ],
      "metadata": {
        "id": "uKNqhSDRCdTV"
      }
    },
    {
      "cell_type": "code",
      "source": [
        "import numpy as np\n",
        "import pandas as pd\n",
        "import torch\n",
        "\n",
        "device = 'cuda' if torch.cuda.is_available() else 'cpu'\n",
        "\n",
        "def load_embedding_from_file():\n",
        "  if save_to_drive:\n",
        "    text_chunks_and_embedding_df = pd.read_csv(embedding_file_drive)\n",
        "  else:\n",
        "    text_chunks_and_embedding_df = pd.read_csv(embedding_file)\n",
        "  # embeddning loaded from csv looks like \"[1 2 3 4 ...]\"\n",
        "  text_chunks_and_embedding_df[\"embedding\"] = text_chunks_and_embedding_df[\"embedding\"].apply(lambda x: np.fromstring(x.strip(\"[]\"), sep=\" \"))\n",
        "\n",
        "  # convert from df to dict\n",
        "  page_and_chunks_dict = text_chunks_and_embedding_df.to_dict(orient='records')\n",
        "  embeddings_tensor = torch.tensor(np.array([item['embedding'] for item in page_and_chunks_dict]), dtype=torch.float32).to(device)\n",
        "  print(embeddings_tensor.shape)\n",
        "  return page_and_chunks_dict, embeddings_tensor\n",
        "\n",
        "page_and_chunks_dict, embeddings_tensor = load_embedding_from_file()\n"
      ],
      "metadata": {
        "colab": {
          "base_uri": "https://localhost:8080/"
        },
        "id": "yEexBmkOYDFz",
        "outputId": "11779c8d-2fdb-4415-e63c-b5f4d8c03b2f"
      },
      "execution_count": 69,
      "outputs": [
        {
          "output_type": "stream",
          "name": "stdout",
          "text": [
            "torch.Size([1673, 768])\n"
          ]
        }
      ]
    },
    {
      "cell_type": "markdown",
      "source": [
        "### load embedding models(make sure the same as the one used for creating embeddings)"
      ],
      "metadata": {
        "id": "GPr4lLidCkz_"
      }
    },
    {
      "cell_type": "code",
      "source": [
        "from sentence_transformers import SentenceTransformer\n",
        "\n",
        "def get_embedding_model(model, device):\n",
        "  return SentenceTransformer(model_name_or_path=model, device=device)\n",
        "\n",
        "ebd_model = 'all-mpnet-base-v2'\n",
        "embedding_model = get_embedding_model(ebd_model, device)"
      ],
      "metadata": {
        "colab": {
          "base_uri": "https://localhost:8080/"
        },
        "id": "pM1705L78Q1g",
        "outputId": "85aed950-94f6-448d-e42e-d4107861600e"
      },
      "execution_count": 16,
      "outputs": [
        {
          "output_type": "execute_result",
          "data": {
            "text/plain": [
              "SentenceTransformer(\n",
              "  (0): Transformer({'max_seq_length': 384, 'do_lower_case': False}) with Transformer model: MPNetModel \n",
              "  (1): Pooling({'word_embedding_dimension': 768, 'pooling_mode_cls_token': False, 'pooling_mode_mean_tokens': True, 'pooling_mode_max_tokens': False, 'pooling_mode_mean_sqrt_len_tokens': False, 'pooling_mode_weightedmean_tokens': False, 'pooling_mode_lasttoken': False, 'include_prompt': True})\n",
              "  (2): Normalize()\n",
              ")"
            ]
          },
          "metadata": {},
          "execution_count": 16
        }
      ]
    },
    {
      "cell_type": "markdown",
      "source": [
        "So all-mpnet-base-v2 uses average pooling by default and also output normolized embeddings."
      ],
      "metadata": {
        "id": "J6_9Pdm5T341"
      }
    },
    {
      "cell_type": "markdown",
      "source": [
        "semantic search needs to convert text/query to embedding using the same embedding model, and then use f.e. dot product/cosine similarity with all the embeddings from csv file to find the top-k results.\n",
        "\n",
        "And cosine similarity uses \"direction\" rather than \"magnitude\", so the normalization is also needed before computation."
      ],
      "metadata": {
        "id": "IeGMug02dorT"
      }
    },
    {
      "cell_type": "markdown",
      "source": [
        "### similiarty search"
      ],
      "metadata": {
        "id": "LHcpF4OAC0R1"
      }
    },
    {
      "cell_type": "code",
      "source": [
        "from sentence_transformers import util\n",
        "import textwrap\n",
        "\n",
        "def print_wrapped(text, wrap_length=80):\n",
        "    wrapped_text = textwrap.fill(text, wrap_length)\n",
        "    return wrapped_text\n",
        "\n",
        "def search_topk_results(query: str, k: int=5):\n",
        "  query_embedding = embedding_model.encode(query, convert_to_tensor=True).to(device)\n",
        "\n",
        "  dot_scores = util.dot_score(a=query_embedding, b=embeddings_tensor)[0]\n",
        "\n",
        "  top_results_dot_product = torch.topk(dot_scores, k=k)\n",
        "  # top_results_dot_product[0] # score\n",
        "  # top_results_dot_product[1] # index in embeddings_tensor\n",
        "  return top_results_dot_product\n",
        "\n",
        "# query = \"macronutrients functions\"\n",
        "query = \"how to eat like ironman\"\n",
        "top_results_dot_product = search_topk_results(query)\n",
        "for score, idx in zip(top_results_dot_product[0], top_results_dot_product[1]):\n",
        "  print(f'Score: {score}')\n",
        "  print(print_wrapped(page_and_chunks_dict[idx]['sentence_chunk']))\n"
      ],
      "metadata": {
        "colab": {
          "base_uri": "https://localhost:8080/"
        },
        "id": "YDWMy3EyTV2Q",
        "outputId": "61d049b2-7728-4339-f213-1c0d149ec995"
      },
      "execution_count": 67,
      "outputs": [
        {
          "output_type": "stream",
          "name": "stdout",
          "text": [
            "Score: 0.5774324536323547\n",
            "\u2022 Get your protein from foods such as soybeans, tofu, tempeh, lentils, and\n",
            "beans, beans, and more beans. Many of these foods are high in zinc too. \u2022 Eat\n",
            "foods fortified with vitamins B12 and D and calcium. Some examples are soy milk\n",
            "and fortified cereals. \u2022 Get enough iron in your diet by eating kidney beans,\n",
            "lentils, whole-grain cereals, and leafy green vegetables. \u2022 To increase iron\n",
            "absorption, eat foods with vitamin C at the same time. \u2022 Don\u2019t forget that\n",
            "carbohydrates and fats are required in your diet too, especially if you are\n",
            "training. Eat whole-grain breads, cereals, and pastas. For fats, eat an avocado,\n",
            "add some olive oil to a salad or stir-fry, or spread some peanut or cashew\n",
            "butter on a bran muffin. Learning Activities Technology Note: The second edition\n",
            "of the Human Nutrition Open Educational Resource (OER) textbook features\n",
            "interactive learning activities.\n",
            "Score: 0.49949949979782104\n",
            "Remedies can include increasing the frequency of meals and adding healthy, high-\n",
            "calorie foods (such as nuts, potatoes, whole-grain pasta, and avocados) to the\n",
            "diet. Liquid supplements between meals may help to improve caloric intake.5\n",
            "Health care professionals should consider a patient\u2019s habits and preferences\n",
            "when developing a nutritional treatment plan. After a plan is in place, patients\n",
            "should be weighed on a weekly basis until they show improvement. 5.\u00a0Morley, JE.\n",
            "(1997). Anorexia of Aging: Physiologic and Pathologic. American Journal of\n",
            "Clinical Nutrition,\u00a066, 760\u201373.http://www.ajcn.org/content/66/4/ 760.full.pdf.\n",
            "Accessed November 12, 2017.\n",
            "Score: 0.4841993451118469\n",
            "Image by Allison Calabrese / CC BY 4.0 Building a Healthy Plate: Choose\n",
            "Nutrient-Dense Foods Click on the different food groups listed to view their\n",
            "food gallery: \u2022 Fruits \u2022 Grains \u2022 Dairy \u2022 Vegetables \u2022 Protein Planning a\n",
            "healthy diet using the MyPlate approach is not difficult. According to the icon,\n",
            "half of your plate should have fruits and vegetables, one-quarter should have\n",
            "whole grains, and one-quarter should have protein. Dairy products should be low-\n",
            "fat or non-fat. The ideal diet gives you the most nutrients within the fewest\n",
            "calories. This means choosing nutrient-rich foods. Fill half of your plate with\n",
            "red, orange, and dark green vegetables and fruits, such as kale, bok choy, kalo\n",
            "(taro), tomatoes, sweet 746 | MyPlate Planner\n",
            "Score: 0.4788128435611725\n",
            "Adequacy An adequate diet is one that favors nutrient-dense foods. Nutrient-\n",
            "dense foods are defined as foods that contain many essential nutrients per\n",
            "calorie. Nutrient-dense foods are the opposite of \u201cempty-calorie\u201d foods, such as\n",
            "sugary carbonated beverages, which are also called \u201cnutrient-poor.\u201dNutrient-\n",
            "dense foods include fruits and vegetables, lean meats, poultry, fish, low-fat\n",
            "dairy products, and whole grains. Choosing more nutrient-dense foods will\n",
            "facilitate weight loss, while simultaneously providing all necessary nutrients.\n",
            "Balance Balance the foods in your diet. Achieving balance in your diet entails\n",
            "not consuming one nutrient at the expense of another. For example, calcium is\n",
            "essential for healthy teeth and bones, but too much calcium will interfere with\n",
            "iron absorption. Most foods that are good sources of iron are poor sources of\n",
            "calcium, so in order to get the necessary amounts of calcium and iron from your\n",
            "diet, a proper balance between food choices is critical. Another example is that\n",
            "while sodium is an essential nutrient, excessive intake may contribute to\n",
            "congestive heart failure and chronic kidney disease in some people.\n",
            "Score: 0.47313445806503296\n",
            "Nutrition Open Educational Resource (OER) textbook features interactive learning\n",
            "activities.\u00a0 These activities are available in the web-based textbook and not\n",
            "available in the downloadable versions (EPUB, Digital PDF, Print_PDF, or Open\n",
            "Document). Learning activities may be used across various mobile devices,\n",
            "however, for the best user experience it is strongly recommended that users\n",
            "complete these activities using a desktop or laptop computer and in Google\n",
            "Chrome. \u00a0 An interactive or media element has been excluded from this version of\n",
            "the text. You can view it online here: http://pressbooks.oer.hawaii.edu/\n",
            "humannutrition2/?p=382 \u00a0 Iron | 665\n"
          ]
        }
      ]
    },
    {
      "cell_type": "markdown",
      "source": [
        "### dot product vs cosine similarity\n",
        "\n",
        "Embedding vectors which are representations of data with magnitude and direction in high dimensional space.  \n",
        "Two of the most common are *dot product* and *cosine similarity*.\n",
        "\n",
        "| Similarity Measure | Description                                                                                                                                       | Code                                                                                                          |\n",
        "|--------------------|---------------------------------------------------------------------------------------------------------------------------------------------------|---------------------------------------------------------------------------------------------------------------|\n",
        "| **Dot Product**    | - Measure of magnitude and direction between two vectors<br>- Vectors that are aligned in direction and magnitude have a higher positive value<br>- Vectors that are opposite in direction and magnitude have a higher negative value | `torch.dot`, `np.dot`, `sentence_transformers.util.dot_score`                                                 |\n",
        "| **Cosine Similarity** | - Vectors get normalized by magnitude/[Euclidean norm](https://en.wikipedia.org/wiki/Euclidean_vector)/L2 norm so they have unit length and are compared more so on direction<br>- Vectors that are aligned in direction have a value close to 1<br>- Vectors that are opposite in direction have a value close to -1 | `torch.nn.functional.cosine_similarity`, `1 - scipy.spatial.distance.cosine`, `sentence_transformers.util.cos_sim` |\n",
        "\n",
        "And semantic similarity mainly targets the `direction`, so cosine similarity is used. In the previous code, because the embedding model has included a normalization step(L2 norm), in the following code, we use dot product `sentence_transformers.util.dot_score` directly.\n"
      ],
      "metadata": {
        "id": "MO-kwIMZD0_Y"
      }
    }
  ]
}